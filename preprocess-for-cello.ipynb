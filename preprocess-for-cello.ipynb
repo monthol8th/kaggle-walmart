{
 "cells": [
  {
   "cell_type": "code",
   "execution_count": 2,
   "metadata": {},
   "outputs": [],
   "source": [
    "import pandas as pd\n",
    "import numpy as np"
   ]
  },
  {
   "cell_type": "code",
   "execution_count": 3,
   "metadata": {},
   "outputs": [],
   "source": [
    "train_df = pd.read_csv('train.csv')"
   ]
  },
  {
   "cell_type": "code",
   "execution_count": 5,
   "metadata": {},
   "outputs": [],
   "source": [
    "train_df['Date'] = pd.to_datetime(train_df['Date'])\n",
    "train_df['Month'] = train_df['Date'].dt.month.astype('category')\n",
    "train_df['Year'] = train_df['Date'].dt.year.astype('category')\n"
   ]
  },
  {
   "cell_type": "code",
   "execution_count": 6,
   "metadata": {},
   "outputs": [
    {
     "name": "stdout",
     "output_type": "stream",
     "text": [
      "<class 'pandas.core.frame.DataFrame'>\n",
      "RangeIndex: 421570 entries, 0 to 421569\n",
      "Data columns (total 7 columns):\n",
      "Store           421570 non-null int64\n",
      "Dept            421570 non-null int64\n",
      "Date            421570 non-null datetime64[ns]\n",
      "Weekly_Sales    421570 non-null float64\n",
      "IsHoliday       421570 non-null bool\n",
      "Month           421570 non-null category\n",
      "Year            421570 non-null category\n",
      "dtypes: bool(1), category(2), datetime64[ns](1), float64(1), int64(2)\n",
      "memory usage: 14.1 MB\n",
      "None\n"
     ]
    }
   ],
   "source": [
    "print(train_df.info())"
   ]
  },
  {
   "cell_type": "code",
   "execution_count": 9,
   "metadata": {},
   "outputs": [],
   "source": [
    "train_df = train_df[['Month','Year','Weekly_Sales']].groupby(['Month','Year']).mean()"
   ]
  },
  {
   "cell_type": "code",
   "execution_count": 10,
   "metadata": {},
   "outputs": [
    {
     "name": "stdout",
     "output_type": "stream",
     "text": [
      "<class 'pandas.core.frame.DataFrame'>\n",
      "MultiIndex: 36 entries, (1, 2010) to (12, 2012)\n",
      "Data columns (total 1 columns):\n",
      "Weekly_Sales    33 non-null float64\n",
      "dtypes: float64(1)\n",
      "memory usage: 1.0 KB\n",
      "None\n"
     ]
    }
   ],
   "source": [
    "print(train_df.info())"
   ]
  },
  {
   "cell_type": "code",
   "execution_count": 11,
   "metadata": {},
   "outputs": [
    {
     "name": "stdout",
     "output_type": "stream",
     "text": [
      "            Weekly_Sales\n",
      "Month Year              \n",
      "1     2010           NaN\n",
      "      2011  13997.773991\n",
      "      2012  14252.698030\n",
      "2     2010  16076.778701\n",
      "      2011  15870.141203\n",
      "      2012  16077.647710\n",
      "3     2010  15432.626612\n",
      "      2011  15182.972005\n",
      "      2012  15589.875454\n",
      "4     2010  15745.551340\n",
      "      2011  15361.895495\n",
      "      2012  15890.394983\n",
      "5     2010  15996.481695\n",
      "      2011  15367.864481\n",
      "      2012  15967.389566\n",
      "6     2010  16486.250953\n",
      "      2011  16188.124643\n",
      "      2012  16309.247563\n",
      "7     2010  15972.812718\n",
      "      2011  15724.738313\n",
      "      2012  15893.325343\n",
      "8     2010  16171.689295\n",
      "      2011  16030.542478\n",
      "      2012  16002.348874\n",
      "9     2010  15120.086691\n",
      "      2011  14961.570247\n",
      "      2012  15239.205709\n",
      "10    2010  14806.151498\n",
      "      2011  15504.338676\n",
      "      2012  15525.194141\n",
      "11    2010  17320.130647\n",
      "      2011  17659.218122\n",
      "      2012           NaN\n",
      "12    2010  19570.351252\n",
      "      2011  19145.218481\n",
      "      2012           NaN\n"
     ]
    }
   ],
   "source": [
    "print(train_df)"
   ]
  },
  {
   "cell_type": "code",
   "execution_count": 12,
   "metadata": {},
   "outputs": [],
   "source": [
    "df = pd.pivot_table(train_df, values='Weekly_Sales', index='Year', columns='Month')"
   ]
  },
  {
   "cell_type": "code",
   "execution_count": 13,
   "metadata": {},
   "outputs": [
    {
     "name": "stdout",
     "output_type": "stream",
     "text": [
      "<class 'pandas.core.frame.DataFrame'>\n",
      "CategoricalIndex: 3 entries, 2010 to 2012\n",
      "Data columns (total 12 columns):\n",
      "1     2 non-null float64\n",
      "2     3 non-null float64\n",
      "3     3 non-null float64\n",
      "4     3 non-null float64\n",
      "5     3 non-null float64\n",
      "6     3 non-null float64\n",
      "7     3 non-null float64\n",
      "8     3 non-null float64\n",
      "9     3 non-null float64\n",
      "10    3 non-null float64\n",
      "11    2 non-null float64\n",
      "12    2 non-null float64\n",
      "dtypes: float64(12)\n",
      "memory usage: 395.0 bytes\n",
      "None\n"
     ]
    }
   ],
   "source": [
    "print(df.info())"
   ]
  },
  {
   "cell_type": "code",
   "execution_count": 14,
   "metadata": {},
   "outputs": [
    {
     "name": "stdout",
     "output_type": "stream",
     "text": [
      "Month            1             2             3             4             5   \\\n",
      "Year                                                                          \n",
      "2010            NaN  16076.778701  15432.626612  15745.551340  15996.481695   \n",
      "2011   13997.773991  15870.141203  15182.972005  15361.895495  15367.864481   \n",
      "2012   14252.698030  16077.647710  15589.875454  15890.394983  15967.389566   \n",
      "\n",
      "Month            6             7             8             9             10  \\\n",
      "Year                                                                          \n",
      "2010   16486.250953  15972.812718  16171.689295  15120.086691  14806.151498   \n",
      "2011   16188.124643  15724.738313  16030.542478  14961.570247  15504.338676   \n",
      "2012   16309.247563  15893.325343  16002.348874  15239.205709  15525.194141   \n",
      "\n",
      "Month            11            12  \n",
      "Year                               \n",
      "2010   17320.130647  19570.351252  \n",
      "2011   17659.218122  19145.218481  \n",
      "2012            NaN           NaN  \n"
     ]
    }
   ],
   "source": [
    "print(df)"
   ]
  },
  {
   "cell_type": "code",
   "execution_count": 15,
   "metadata": {},
   "outputs": [],
   "source": [
    "df.to_csv('preprocessed_train.csv')"
   ]
  },
  {
   "cell_type": "code",
   "execution_count": null,
   "metadata": {},
   "outputs": [],
   "source": []
  }
 ],
 "metadata": {
  "kernelspec": {
   "display_name": "Python 3",
   "language": "python",
   "name": "python3"
  },
  "language_info": {
   "codemirror_mode": {
    "name": "ipython",
    "version": 3
   },
   "file_extension": ".py",
   "mimetype": "text/x-python",
   "name": "python",
   "nbconvert_exporter": "python",
   "pygments_lexer": "ipython3",
   "version": "3.6.5"
  }
 },
 "nbformat": 4,
 "nbformat_minor": 2
}
