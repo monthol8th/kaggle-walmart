{
 "cells": [
  {
   "cell_type": "code",
   "execution_count": 1,
   "metadata": {},
   "outputs": [],
   "source": [
    "import pandas as pd\n",
    "import numpy as np"
   ]
  },
  {
   "cell_type": "markdown",
   "metadata": {},
   "source": [
    "# Preprocess"
   ]
  },
  {
   "cell_type": "code",
   "execution_count": 2,
   "metadata": {},
   "outputs": [],
   "source": [
    "features = pd.read_csv('features.csv')\n",
    "train_df = pd.read_csv('train.csv')"
   ]
  },
  {
   "cell_type": "code",
   "execution_count": 3,
   "metadata": {},
   "outputs": [
    {
     "name": "stdout",
     "output_type": "stream",
     "text": [
      "<class 'pandas.core.frame.DataFrame'>\n",
      "RangeIndex: 421570 entries, 0 to 421569\n",
      "Data columns (total 5 columns):\n",
      "Store           421570 non-null int64\n",
      "Dept            421570 non-null int64\n",
      "Date            421570 non-null object\n",
      "Weekly_Sales    421570 non-null float64\n",
      "IsHoliday       421570 non-null bool\n",
      "dtypes: bool(1), float64(1), int64(2), object(1)\n",
      "memory usage: 13.3+ MB\n",
      "None\n",
      "   Store  Dept        Date  Weekly_Sales  IsHoliday\n",
      "0      1     1  2010-02-05      24924.50      False\n",
      "1      1     1  2010-02-12      46039.49       True\n",
      "2      1     1  2010-02-19      41595.55      False\n",
      "3      1     1  2010-02-26      19403.54      False\n",
      "4      1     1  2010-03-05      21827.90      False\n"
     ]
    }
   ],
   "source": [
    "print(train_df.info())\n",
    "print(train_df.head())"
   ]
  },
  {
   "cell_type": "code",
   "execution_count": 4,
   "metadata": {},
   "outputs": [],
   "source": [
    "train_df['Date'] = pd.to_datetime(train_df['Date'])"
   ]
  },
  {
   "cell_type": "code",
   "execution_count": 5,
   "metadata": {},
   "outputs": [
    {
     "name": "stdout",
     "output_type": "stream",
     "text": [
      "<class 'pandas.core.frame.DataFrame'>\n",
      "RangeIndex: 421570 entries, 0 to 421569\n",
      "Data columns (total 5 columns):\n",
      "Store           421570 non-null int64\n",
      "Dept            421570 non-null int64\n",
      "Date            421570 non-null datetime64[ns]\n",
      "Weekly_Sales    421570 non-null float64\n",
      "IsHoliday       421570 non-null bool\n",
      "dtypes: bool(1), datetime64[ns](1), float64(1), int64(2)\n",
      "memory usage: 13.3 MB\n",
      "None\n",
      "   Store  Dept       Date  Weekly_Sales  IsHoliday\n",
      "0      1     1 2010-02-05      24924.50      False\n",
      "1      1     1 2010-02-12      46039.49       True\n",
      "2      1     1 2010-02-19      41595.55      False\n",
      "3      1     1 2010-02-26      19403.54      False\n",
      "4      1     1 2010-03-05      21827.90      False\n"
     ]
    }
   ],
   "source": [
    "print(train_df.info())\n",
    "print(train_df.head())"
   ]
  },
  {
   "cell_type": "code",
   "execution_count": 6,
   "metadata": {},
   "outputs": [
    {
     "name": "stdout",
     "output_type": "stream",
     "text": [
      "               Store           Dept   Weekly_Sales\n",
      "count  421570.000000  421570.000000  421570.000000\n",
      "mean       22.200546      44.260317   15981.258123\n",
      "std        12.785297      30.492054   22711.183519\n",
      "min         1.000000       1.000000   -4988.940000\n",
      "25%        11.000000      18.000000    2079.650000\n",
      "50%        22.000000      37.000000    7612.030000\n",
      "75%        33.000000      74.000000   20205.852500\n",
      "max        45.000000      99.000000  693099.360000\n"
     ]
    }
   ],
   "source": [
    "print(train_df.describe())"
   ]
  },
  {
   "cell_type": "markdown",
   "metadata": {},
   "source": [
    "## Feature"
   ]
  },
  {
   "cell_type": "code",
   "execution_count": 7,
   "metadata": {
    "scrolled": false
   },
   "outputs": [
    {
     "name": "stdout",
     "output_type": "stream",
     "text": [
      "<class 'pandas.core.frame.DataFrame'>\n",
      "RangeIndex: 8190 entries, 0 to 8189\n",
      "Data columns (total 12 columns):\n",
      "Store           8190 non-null int64\n",
      "Date            8190 non-null object\n",
      "Temperature     8190 non-null float64\n",
      "Fuel_Price      8190 non-null float64\n",
      "MarkDown1       4032 non-null float64\n",
      "MarkDown2       2921 non-null float64\n",
      "MarkDown3       3613 non-null float64\n",
      "MarkDown4       3464 non-null float64\n",
      "MarkDown5       4050 non-null float64\n",
      "CPI             7605 non-null float64\n",
      "Unemployment    7605 non-null float64\n",
      "IsHoliday       8190 non-null bool\n",
      "dtypes: bool(1), float64(9), int64(1), object(1)\n",
      "memory usage: 711.9+ KB\n",
      "None\n",
      "   Store        Date  Temperature  Fuel_Price  MarkDown1  MarkDown2  \\\n",
      "0      1  2010-02-05        42.31       2.572        NaN        NaN   \n",
      "1      1  2010-02-12        38.51       2.548        NaN        NaN   \n",
      "2      1  2010-02-19        39.93       2.514        NaN        NaN   \n",
      "3      1  2010-02-26        46.63       2.561        NaN        NaN   \n",
      "4      1  2010-03-05        46.50       2.625        NaN        NaN   \n",
      "\n",
      "   MarkDown3  MarkDown4  MarkDown5         CPI  Unemployment  IsHoliday  \n",
      "0        NaN        NaN        NaN  211.096358         8.106      False  \n",
      "1        NaN        NaN        NaN  211.242170         8.106       True  \n",
      "2        NaN        NaN        NaN  211.289143         8.106      False  \n",
      "3        NaN        NaN        NaN  211.319643         8.106      False  \n",
      "4        NaN        NaN        NaN  211.350143         8.106      False  \n"
     ]
    }
   ],
   "source": [
    "print(features.info())\n",
    "print(features.head())"
   ]
  },
  {
   "cell_type": "code",
   "execution_count": 8,
   "metadata": {},
   "outputs": [
    {
     "name": "stdout",
     "output_type": "stream",
     "text": [
      "<class 'pandas.core.frame.DataFrame'>\n",
      "RangeIndex: 8190 entries, 0 to 8189\n",
      "Data columns (total 11 columns):\n",
      "Store           8190 non-null int64\n",
      "Date            8190 non-null datetime64[ns]\n",
      "Temperature     8190 non-null float64\n",
      "Fuel_Price      8190 non-null float64\n",
      "MarkDown1       4032 non-null float64\n",
      "MarkDown2       2921 non-null float64\n",
      "MarkDown3       3613 non-null float64\n",
      "MarkDown4       3464 non-null float64\n",
      "MarkDown5       4050 non-null float64\n",
      "CPI             7605 non-null float64\n",
      "Unemployment    7605 non-null float64\n",
      "dtypes: datetime64[ns](1), float64(9), int64(1)\n",
      "memory usage: 703.9 KB\n",
      "None\n",
      "   Store       Date  Temperature  Fuel_Price  MarkDown1  MarkDown2  MarkDown3  \\\n",
      "0      1 2010-02-05        42.31       2.572        NaN        NaN        NaN   \n",
      "1      1 2010-02-12        38.51       2.548        NaN        NaN        NaN   \n",
      "2      1 2010-02-19        39.93       2.514        NaN        NaN        NaN   \n",
      "3      1 2010-02-26        46.63       2.561        NaN        NaN        NaN   \n",
      "4      1 2010-03-05        46.50       2.625        NaN        NaN        NaN   \n",
      "\n",
      "   MarkDown4  MarkDown5         CPI  Unemployment  \n",
      "0        NaN        NaN  211.096358         8.106  \n",
      "1        NaN        NaN  211.242170         8.106  \n",
      "2        NaN        NaN  211.289143         8.106  \n",
      "3        NaN        NaN  211.319643         8.106  \n",
      "4        NaN        NaN  211.350143         8.106  \n"
     ]
    }
   ],
   "source": [
    "features['Date'] = pd.to_datetime(features['Date'])\n",
    "features = features.drop(columns=['IsHoliday'])\n",
    "print(features.info())\n",
    "print(features.head())\n",
    "\n"
   ]
  },
  {
   "cell_type": "code",
   "execution_count": 9,
   "metadata": {},
   "outputs": [
    {
     "name": "stdout",
     "output_type": "stream",
     "text": [
      "             Store  Temperature   Fuel_Price      MarkDown1      MarkDown2  \\\n",
      "count  8190.000000  8190.000000  8190.000000    4032.000000    2921.000000   \n",
      "mean     23.000000    59.356198     3.405992    7032.371786    3384.176594   \n",
      "std      12.987966    18.678607     0.431337    9262.747448    8793.583016   \n",
      "min       1.000000    -7.290000     2.472000   -2781.450000    -265.760000   \n",
      "25%      12.000000    45.902500     3.041000    1577.532500      68.880000   \n",
      "50%      23.000000    60.710000     3.513000    4743.580000     364.570000   \n",
      "75%      34.000000    73.880000     3.743000    8923.310000    2153.350000   \n",
      "max      45.000000   101.950000     4.468000  103184.980000  104519.540000   \n",
      "\n",
      "           MarkDown3     MarkDown4      MarkDown5          CPI  Unemployment  \n",
      "count    3613.000000   3464.000000    4050.000000  7605.000000   7605.000000  \n",
      "mean     1760.100180   3292.935886    4132.216422   172.460809      7.826821  \n",
      "std     11276.462208   6792.329861   13086.690278    39.738346      1.877259  \n",
      "min      -179.260000      0.220000    -185.170000   126.064000      3.684000  \n",
      "25%         6.600000    304.687500    1440.827500   132.364839      6.634000  \n",
      "50%        36.260000   1176.425000    2727.135000   182.764003      7.806000  \n",
      "75%       163.150000   3310.007500    4832.555000   213.932412      8.567000  \n",
      "max    149483.310000  67474.850000  771448.100000   228.976456     14.313000  \n"
     ]
    }
   ],
   "source": [
    "print(features.describe())"
   ]
  },
  {
   "cell_type": "code",
   "execution_count": 10,
   "metadata": {},
   "outputs": [
    {
     "name": "stdout",
     "output_type": "stream",
     "text": [
      "<class 'pandas.core.frame.DataFrame'>\n",
      "Int64Index: 421570 entries, 0 to 421569\n",
      "Data columns (total 7 columns):\n",
      "Store           421570 non-null int64\n",
      "Dept            421570 non-null int64\n",
      "Date            421570 non-null datetime64[ns]\n",
      "Weekly_Sales    421570 non-null float64\n",
      "IsHoliday       421570 non-null bool\n",
      "Fuel_Price      421570 non-null float64\n",
      "Temperature     421570 non-null float64\n",
      "dtypes: bool(1), datetime64[ns](1), float64(3), int64(2)\n",
      "memory usage: 22.9 MB\n",
      "None\n"
     ]
    }
   ],
   "source": [
    "train_merged = train_df.merge(features[['Store','Date','Fuel_Price','Temperature']],on=['Store','Date'])\n",
    "\n",
    "print(train_merged.info())"
   ]
  },
  {
   "cell_type": "code",
   "execution_count": 11,
   "metadata": {},
   "outputs": [],
   "source": [
    "train_df['Week'] = pd.to_datetime(train_df['Date']).dt.week\n",
    "train_df=train_df.drop(columns=['Date'])\n",
    "\n",
    "# train_df = train_df.merge(features[['Store','Date','MarkDown4']],on=['Store','Date'])\n",
    "\n",
    "# y = train_df['Weekly_Sales'].values\n",
    "# X = train_df.drop(columns=['Weekly_Sales']).values"
   ]
  },
  {
   "cell_type": "code",
   "execution_count": 12,
   "metadata": {},
   "outputs": [
    {
     "name": "stdout",
     "output_type": "stream",
     "text": [
      "<class 'pandas.core.frame.DataFrame'>\n",
      "RangeIndex: 421570 entries, 0 to 421569\n",
      "Data columns (total 5 columns):\n",
      "Store           421570 non-null int64\n",
      "Dept            421570 non-null int64\n",
      "Weekly_Sales    421570 non-null float64\n",
      "IsHoliday       421570 non-null bool\n",
      "Week            421570 non-null int64\n",
      "dtypes: bool(1), float64(1), int64(3)\n",
      "memory usage: 13.3 MB\n",
      "None\n",
      "[24924.5  46039.49 41595.55 19403.54 21827.9  21043.39 22136.64 26229.21\n",
      " 57258.43 42960.91 17596.96 16145.35 16555.11 17413.94 18926.74 14773.04\n",
      " 15580.43 17558.09 16637.62 16216.27 16328.72 16333.14 17688.76 17150.84\n",
      " 15360.45 15381.82 17508.41 15536.4  15740.13 15793.87 16241.78 18194.74\n",
      " 19354.23 18122.52 20094.19 23388.03 26978.34 25543.04 38640.93 34238.88\n",
      " 19549.39 19552.84 18820.29 22517.56 31497.65 44912.86 55931.23 19124.58\n",
      " 15984.24 17359.7  17341.47 18461.18 21665.76 37887.17 46845.87 19363.83\n",
      " 20327.61 21280.4  20334.23 20881.1  20398.09 23873.79 28762.37 50510.31\n",
      " 41512.39 20138.19 17235.15 15136.78 15741.6  16434.15 15883.52 14978.09\n",
      " 15682.81 15363.5  16148.87 15654.85 15766.6  15922.41 15295.55 14539.79\n",
      " 14689.24 14537.37 15277.27 17746.68 18535.48 17859.3  18337.68 20797.58\n",
      " 23077.55 23351.8  31579.9  39886.06 18689.54 19050.66 20911.25 25293.49\n",
      " 33305.92 45773.03 46788.75 23350.88 16567.69 16894.4  18365.1  18378.16\n",
      " 23510.49 36988.49 54060.1  20124.22 20113.03 21140.07 22366.88 22107.7\n",
      " 28952.86 57592.12 34684.21 16976.19 16347.6  17147.44 18164.2  18517.79\n",
      " 16963.55 16065.49 17666.   17558.82 16633.41 15722.82 17823.37 16566.18\n",
      " 16348.06 15731.18 16628.31 16119.92 17330.7  16286.4  16680.24 18322.37\n",
      " 19616.22 19251.5  18947.81 21904.47 22764.01 24185.27 27390.81]\n",
      "[ 5  6  7  8  9 10 11 12 13 14 15 16 17 18 19 20 21 22 23 24 25 26 27 28\n",
      " 29 30 31 32 33 34 35 36 37 38 39 40 41 42 43 44 45 46 47 48 49 50 51 52\n",
      "  1  2  3  4  5  6  7  8  9 10 11 12 13 14 15 16 17 18 19 20 21 22 23 24\n",
      " 25 26 27 28 29 30 31 32 33 34 35 36 37 38 39 40 41 42 43 44 45 46 47 48\n",
      " 49 50 51 52  1  2  3  4  5  6  7  8  9 10 11 12 13 14 15 16 17 18 19 20\n",
      " 21 22 23 24 25 26 27 28 29 30 31 32 33 34 35 36 37 38 39 40 41 42 43]\n"
     ]
    }
   ],
   "source": [
    "print(train_df.info())\n",
    "\n",
    "y = train_df[['Store','Dept','Weekly_Sales']]\n",
    "X = train_df.drop(columns=['Weekly_Sales'])\n",
    "\n",
    "y = {key:value['Weekly_Sales'].values for key,value in y.groupby(['Store','Dept'])}\n",
    "X = {key:value['Week'].values for key,value in X.groupby(['Store','Dept'])}\n",
    "\n",
    "print(y[(1,1)])\n",
    "print(X[(1,1)])\n",
    "\n",
    "y_miss = train_df[['Store','Dept','Weekly_Sales']]\n",
    "X_miss = train_df.drop(columns=['Weekly_Sales'])\n",
    "\n",
    "y_miss = {key:value['Weekly_Sales'].values for key,value in y_miss.groupby(['Store'])}\n",
    "X_miss = {key:value['Week'].values for key,value in X_miss.groupby(['Store'])}\n",
    "\n",
    "# for i, j in train_df.groupby(['Store','Dept']):\n",
    "\n",
    "# t_df = {i:{j:y for j,y in x.groupby(x['Dept'])} for i, x in train_df.groupby(train_df['Store'])}\n",
    "\n",
    "# X_train = dict()\n",
    "# y_train = dict() \n",
    "# X_test = dict()\n",
    "# y_test = dict()\n",
    "\n",
    "# from sklearn.model_selection import train_test_split\n",
    "# for dfs in t_df.keys():\n",
    "#     X_train[dfs] = dict()\n",
    "#     X_test[dfs] = dict()\n",
    "#     y_train[dfs] = dict()\n",
    "#     y_test[dfs] = dict()\n",
    "#     for df in t_df[dfs].keys():\n",
    "#         y = t_df[dfs][df]['Weekly_Sales'].values\n",
    "#         X = t_df[dfs][df].drop(columns=['Weekly_Sales']).values\n",
    "# #         if(len(X)<=1):\n",
    "# #             X_train[dfs][df] = X\n",
    "# #             y_train[dfs][df] = y\n",
    "# #             X_test = np.array([])\n",
    "# #             y_test = np.array([])\n",
    "# #         else:\n",
    "#         X_train[dfs][df], X_test[dfs][df], y_train[dfs][df], y_test[dfs][df] = train_test_split(X, y, train_size=0.9, random_state=42)\n"
   ]
  },
  {
   "cell_type": "code",
   "execution_count": 13,
   "metadata": {},
   "outputs": [],
   "source": [
    "\n",
    "# X_train, X_test, y_train, y_test = train_test_split(X, y, test_size=0.3, random_state=42)\n",
    "# test_MAE_weight = [5 if x[3] else 1 for x in X_test]"
   ]
  },
  {
   "cell_type": "markdown",
   "metadata": {},
   "source": [
    "## test data"
   ]
  },
  {
   "cell_type": "code",
   "execution_count": 14,
   "metadata": {},
   "outputs": [
    {
     "name": "stdout",
     "output_type": "stream",
     "text": [
      "        Store  Dept       Date  IsHoliday  Week\n",
      "0           1     1 2012-11-02      False    44\n",
      "1           1     1 2012-11-09      False    45\n",
      "2           1     1 2012-11-16      False    46\n",
      "3           1     1 2012-11-23       True    47\n",
      "4           1     1 2012-11-30      False    48\n",
      "5           1     1 2012-12-07      False    49\n",
      "6           1     1 2012-12-14      False    50\n",
      "7           1     1 2012-12-21      False    51\n",
      "8           1     1 2012-12-28       True    52\n",
      "9           1     1 2013-01-04      False     1\n",
      "10          1     1 2013-01-11      False     2\n",
      "11          1     1 2013-01-18      False     3\n",
      "12          1     1 2013-01-25      False     4\n",
      "13          1     1 2013-02-01      False     5\n",
      "14          1     1 2013-02-08       True     6\n",
      "15          1     1 2013-02-15      False     7\n",
      "16          1     1 2013-02-22      False     8\n",
      "17          1     1 2013-03-01      False     9\n",
      "18          1     1 2013-03-08      False    10\n",
      "19          1     1 2013-03-15      False    11\n",
      "20          1     1 2013-03-22      False    12\n",
      "21          1     1 2013-03-29      False    13\n",
      "22          1     1 2013-04-05      False    14\n",
      "23          1     1 2013-04-12      False    15\n",
      "24          1     1 2013-04-19      False    16\n",
      "25          1     1 2013-04-26      False    17\n",
      "26          1     1 2013-05-03      False    18\n",
      "27          1     1 2013-05-10      False    19\n",
      "28          1     1 2013-05-17      False    20\n",
      "29          1     1 2013-05-24      False    21\n",
      "...       ...   ...        ...        ...   ...\n",
      "115034     45    98 2013-01-04      False     1\n",
      "115035     45    98 2013-01-11      False     2\n",
      "115036     45    98 2013-01-18      False     3\n",
      "115037     45    98 2013-01-25      False     4\n",
      "115038     45    98 2013-02-01      False     5\n",
      "115039     45    98 2013-02-08       True     6\n",
      "115040     45    98 2013-02-15      False     7\n",
      "115041     45    98 2013-02-22      False     8\n",
      "115042     45    98 2013-03-01      False     9\n",
      "115043     45    98 2013-03-08      False    10\n",
      "115044     45    98 2013-03-15      False    11\n",
      "115045     45    98 2013-03-22      False    12\n",
      "115046     45    98 2013-03-29      False    13\n",
      "115047     45    98 2013-04-05      False    14\n",
      "115048     45    98 2013-04-12      False    15\n",
      "115049     45    98 2013-04-19      False    16\n",
      "115050     45    98 2013-04-26      False    17\n",
      "115051     45    98 2013-05-03      False    18\n",
      "115052     45    98 2013-05-10      False    19\n",
      "115053     45    98 2013-05-17      False    20\n",
      "115054     45    98 2013-05-24      False    21\n",
      "115055     45    98 2013-05-31      False    22\n",
      "115056     45    98 2013-06-07      False    23\n",
      "115057     45    98 2013-06-14      False    24\n",
      "115058     45    98 2013-06-21      False    25\n",
      "115059     45    98 2013-06-28      False    26\n",
      "115060     45    98 2013-07-05      False    27\n",
      "115061     45    98 2013-07-12      False    28\n",
      "115062     45    98 2013-07-19      False    29\n",
      "115063     45    98 2013-07-26      False    30\n",
      "\n",
      "[115064 rows x 5 columns]\n"
     ]
    }
   ],
   "source": [
    "test_df = pd.read_csv('test.csv')\n",
    "test_df['Date'] = pd.to_datetime(test_df['Date'])\n",
    "test_df['Week'] = pd.to_datetime(test_df['Date']).dt.week\n",
    "# test_df=test_df.drop(columns=['Date'])\n",
    "x_submission = test_df\n",
    "# print(test_df[['Date','Week']])\n",
    "print(test_df)\n",
    "sample_sub = pd.read_csv('sampleSubmission.csv')"
   ]
  },
  {
   "cell_type": "markdown",
   "metadata": {},
   "source": [
    "# Linear"
   ]
  },
  {
   "cell_type": "code",
   "execution_count": 15,
   "metadata": {},
   "outputs": [],
   "source": [
    "from sklearn.metrics import mean_absolute_error\n",
    "from sklearn.linear_model import LinearRegression"
   ]
  },
  {
   "cell_type": "code",
   "execution_count": 16,
   "metadata": {},
   "outputs": [
    {
     "name": "stderr",
     "output_type": "stream",
     "text": [
      "/usr/local/lib/python3.6/site-packages/scipy/linalg/basic.py:1226: RuntimeWarning: internal gelsd driver lwork query error, required iwork dimension not returned. This is likely the result of LAPACK bug 0038, fixed in LAPACK 3.2.2 (released July 21, 2010). Falling back to 'gelss' driver.\n",
      "  warnings.warn(mesg, RuntimeWarning)\n"
     ]
    }
   ],
   "source": [
    "linear_reg = dict()\n",
    "for key1,key2 in X:\n",
    "    linear_reg[(key1,key2)] = LinearRegression()\n",
    "    linear_reg[(key1,key2)].fit(X[(key1,key2)].reshape(-1, 1),y[(key1,key2)])\n",
    "for key in X_miss:\n",
    "    linear_reg[(key,0)] = LinearRegression()\n",
    "    linear_reg[(key,0)].fit(X_miss[key].reshape(-1, 1),y_miss[key])"
   ]
  },
  {
   "cell_type": "code",
   "execution_count": 17,
   "metadata": {},
   "outputs": [
    {
     "name": "stdout",
     "output_type": "stream",
     "text": [
      "[22612.47066578]\n"
     ]
    }
   ],
   "source": [
    "print(linear_reg[(1,1)].predict(44))"
   ]
  },
  {
   "cell_type": "code",
   "execution_count": 18,
   "metadata": {},
   "outputs": [
    {
     "name": "stdout",
     "output_type": "stream",
     "text": [
      "               Store          Dept          Date     IsHoliday          Week\n",
      "0       22612.470666  22612.470666  22612.470666  22612.470666  22612.470666\n",
      "1       22617.923791  22617.923791  22617.923791  22617.923791  22617.923791\n",
      "2       22623.376916  22623.376916  22623.376916  22623.376916  22623.376916\n",
      "3       22628.830041  22628.830041  22628.830041  22628.830041  22628.830041\n",
      "4       22634.283166  22634.283166  22634.283166  22634.283166  22634.283166\n",
      "5       22639.736291  22639.736291  22639.736291  22639.736291  22639.736291\n",
      "6       22645.189416  22645.189416  22645.189416  22645.189416  22645.189416\n",
      "7       22650.642541  22650.642541  22650.642541  22650.642541  22650.642541\n",
      "8       22656.095666  22656.095666  22656.095666  22656.095666  22656.095666\n",
      "9       22377.986287  22377.986287  22377.986287  22377.986287  22377.986287\n",
      "10      22383.439412  22383.439412  22383.439412  22383.439412  22383.439412\n",
      "11      22388.892538  22388.892538  22388.892538  22388.892538  22388.892538\n",
      "12      22394.345663  22394.345663  22394.345663  22394.345663  22394.345663\n",
      "13      22399.798788  22399.798788  22399.798788  22399.798788  22399.798788\n",
      "14      22405.251913  22405.251913  22405.251913  22405.251913  22405.251913\n",
      "15      22410.705038  22410.705038  22410.705038  22410.705038  22410.705038\n",
      "16      22416.158163  22416.158163  22416.158163  22416.158163  22416.158163\n",
      "17      22421.611288  22421.611288  22421.611288  22421.611288  22421.611288\n",
      "18      22427.064413  22427.064413  22427.064413  22427.064413  22427.064413\n",
      "19      22432.517538  22432.517538  22432.517538  22432.517538  22432.517538\n",
      "20      22437.970663  22437.970663  22437.970663  22437.970663  22437.970663\n",
      "21      22443.423788  22443.423788  22443.423788  22443.423788  22443.423788\n",
      "22      22448.876913  22448.876913  22448.876913  22448.876913  22448.876913\n",
      "23      22454.330038  22454.330038  22454.330038  22454.330038  22454.330038\n",
      "24      22459.783164  22459.783164  22459.783164  22459.783164  22459.783164\n",
      "25      22465.236289  22465.236289  22465.236289  22465.236289  22465.236289\n",
      "26      22470.689414  22470.689414  22470.689414  22470.689414  22470.689414\n",
      "27      22476.142539  22476.142539  22476.142539  22476.142539  22476.142539\n",
      "28      22481.595664  22481.595664  22481.595664  22481.595664  22481.595664\n",
      "29      22487.048789  22487.048789  22487.048789  22487.048789  22487.048789\n",
      "...              ...           ...           ...           ...           ...\n",
      "115034    557.301083    557.301083    557.301083    557.301083    557.301083\n",
      "115035    557.459635    557.459635    557.459635    557.459635    557.459635\n",
      "115036    557.618187    557.618187    557.618187    557.618187    557.618187\n",
      "115037    557.776738    557.776738    557.776738    557.776738    557.776738\n",
      "115038    557.935290    557.935290    557.935290    557.935290    557.935290\n",
      "115039    558.093842    558.093842    558.093842    558.093842    558.093842\n",
      "115040    558.252393    558.252393    558.252393    558.252393    558.252393\n",
      "115041    558.410945    558.410945    558.410945    558.410945    558.410945\n",
      "115042    558.569497    558.569497    558.569497    558.569497    558.569497\n",
      "115043    558.728048    558.728048    558.728048    558.728048    558.728048\n",
      "115044    558.886600    558.886600    558.886600    558.886600    558.886600\n",
      "115045    559.045152    559.045152    559.045152    559.045152    559.045152\n",
      "115046    559.203703    559.203703    559.203703    559.203703    559.203703\n",
      "115047    559.362255    559.362255    559.362255    559.362255    559.362255\n",
      "115048    559.520807    559.520807    559.520807    559.520807    559.520807\n",
      "115049    559.679358    559.679358    559.679358    559.679358    559.679358\n",
      "115050    559.837910    559.837910    559.837910    559.837910    559.837910\n",
      "115051    559.996462    559.996462    559.996462    559.996462    559.996462\n",
      "115052    560.155013    560.155013    560.155013    560.155013    560.155013\n",
      "115053    560.313565    560.313565    560.313565    560.313565    560.313565\n",
      "115054    560.472117    560.472117    560.472117    560.472117    560.472117\n",
      "115055    560.630668    560.630668    560.630668    560.630668    560.630668\n",
      "115056    560.789220    560.789220    560.789220    560.789220    560.789220\n",
      "115057    560.947772    560.947772    560.947772    560.947772    560.947772\n",
      "115058    561.106323    561.106323    561.106323    561.106323    561.106323\n",
      "115059    561.264875    561.264875    561.264875    561.264875    561.264875\n",
      "115060    561.423427    561.423427    561.423427    561.423427    561.423427\n",
      "115061    561.581978    561.581978    561.581978    561.581978    561.581978\n",
      "115062    561.740530    561.740530    561.740530    561.740530    561.740530\n",
      "115063    561.899082    561.899082    561.899082    561.899082    561.899082\n",
      "\n",
      "[115064 rows x 5 columns]\n"
     ]
    }
   ],
   "source": [
    "y = x_submission.apply(lambda x: linear_reg[(x['Store'],x['Dept'])if(x['Store'],x['Dept'])in linear_reg else(x['Store'],0) ].predict(x['Week']),axis=1)\n",
    "# y = x_submission.apply(lambda x: x[['IsHoliday','Week']],axis=1)\n",
    "\n",
    "print(y)\n",
    "# print(x_submission[x_submission['Week']==2])\n",
    "sample_sub['Weekly_Sales'] = y\n",
    "sample_sub.to_csv('logistic_submission.csv',columns=['Id','Weekly_Sales'],index=False)"
   ]
  },
  {
   "cell_type": "code",
   "execution_count": null,
   "metadata": {},
   "outputs": [],
   "source": []
  }
 ],
 "metadata": {
  "kernelspec": {
   "display_name": "Python 3",
   "language": "python",
   "name": "python3"
  },
  "language_info": {
   "codemirror_mode": {
    "name": "ipython",
    "version": 3
   },
   "file_extension": ".py",
   "mimetype": "text/x-python",
   "name": "python",
   "nbconvert_exporter": "python",
   "pygments_lexer": "ipython3",
   "version": "3.6.5"
  }
 },
 "nbformat": 4,
 "nbformat_minor": 2
}
