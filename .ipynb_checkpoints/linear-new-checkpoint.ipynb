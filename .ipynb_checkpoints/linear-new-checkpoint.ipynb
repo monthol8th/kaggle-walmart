{
 "cells": [
  {
   "cell_type": "code",
   "execution_count": 2,
   "metadata": {},
   "outputs": [],
   "source": [
    "import pandas as pd"
   ]
  },
  {
   "cell_type": "markdown",
   "metadata": {},
   "source": [
    "# Preprocess"
   ]
  },
  {
   "cell_type": "code",
   "execution_count": 3,
   "metadata": {},
   "outputs": [],
   "source": [
    "features = pd.read_csv('features.csv')\n",
    "train_df = pd.read_csv('train.csv')"
   ]
  },
  {
   "cell_type": "code",
   "execution_count": 4,
   "metadata": {},
   "outputs": [
    {
     "name": "stdout",
     "output_type": "stream",
     "text": [
      "<class 'pandas.core.frame.DataFrame'>\n",
      "RangeIndex: 421570 entries, 0 to 421569\n",
      "Data columns (total 5 columns):\n",
      "Store           421570 non-null int64\n",
      "Dept            421570 non-null int64\n",
      "Date            421570 non-null object\n",
      "Weekly_Sales    421570 non-null float64\n",
      "IsHoliday       421570 non-null bool\n",
      "dtypes: bool(1), float64(1), int64(2), object(1)\n",
      "memory usage: 13.3+ MB\n",
      "None\n",
      "   Store  Dept        Date  Weekly_Sales  IsHoliday\n",
      "0      1     1  2010-02-05      24924.50      False\n",
      "1      1     1  2010-02-12      46039.49       True\n",
      "2      1     1  2010-02-19      41595.55      False\n",
      "3      1     1  2010-02-26      19403.54      False\n",
      "4      1     1  2010-03-05      21827.90      False\n"
     ]
    }
   ],
   "source": [
    "print(train_df.info())\n",
    "print(train_df.head())"
   ]
  },
  {
   "cell_type": "code",
   "execution_count": 5,
   "metadata": {},
   "outputs": [],
   "source": [
    "train_df['Date'] = pd.to_datetime(train_df['Date'])"
   ]
  },
  {
   "cell_type": "code",
   "execution_count": 6,
   "metadata": {},
   "outputs": [
    {
     "name": "stdout",
     "output_type": "stream",
     "text": [
      "<class 'pandas.core.frame.DataFrame'>\n",
      "RangeIndex: 421570 entries, 0 to 421569\n",
      "Data columns (total 5 columns):\n",
      "Store           421570 non-null int64\n",
      "Dept            421570 non-null int64\n",
      "Date            421570 non-null datetime64[ns]\n",
      "Weekly_Sales    421570 non-null float64\n",
      "IsHoliday       421570 non-null bool\n",
      "dtypes: bool(1), datetime64[ns](1), float64(1), int64(2)\n",
      "memory usage: 13.3 MB\n",
      "None\n",
      "   Store  Dept       Date  Weekly_Sales  IsHoliday\n",
      "0      1     1 2010-02-05      24924.50      False\n",
      "1      1     1 2010-02-12      46039.49       True\n",
      "2      1     1 2010-02-19      41595.55      False\n",
      "3      1     1 2010-02-26      19403.54      False\n",
      "4      1     1 2010-03-05      21827.90      False\n"
     ]
    }
   ],
   "source": [
    "print(train_df.info())\n",
    "print(train_df.head())"
   ]
  },
  {
   "cell_type": "code",
   "execution_count": 7,
   "metadata": {},
   "outputs": [
    {
     "name": "stdout",
     "output_type": "stream",
     "text": [
      "               Store           Dept   Weekly_Sales\n",
      "count  421570.000000  421570.000000  421570.000000\n",
      "mean       22.200546      44.260317   15981.258123\n",
      "std        12.785297      30.492054   22711.183519\n",
      "min         1.000000       1.000000   -4988.940000\n",
      "25%        11.000000      18.000000    2079.650000\n",
      "50%        22.000000      37.000000    7612.030000\n",
      "75%        33.000000      74.000000   20205.852500\n",
      "max        45.000000      99.000000  693099.360000\n"
     ]
    }
   ],
   "source": [
    "print(train_df.describe())"
   ]
  },
  {
   "cell_type": "markdown",
   "metadata": {},
   "source": [
    "## Feature"
   ]
  },
  {
   "cell_type": "code",
   "execution_count": 8,
   "metadata": {
    "scrolled": false
   },
   "outputs": [
    {
     "name": "stdout",
     "output_type": "stream",
     "text": [
      "<class 'pandas.core.frame.DataFrame'>\n",
      "RangeIndex: 8190 entries, 0 to 8189\n",
      "Data columns (total 12 columns):\n",
      "Store           8190 non-null int64\n",
      "Date            8190 non-null object\n",
      "Temperature     8190 non-null float64\n",
      "Fuel_Price      8190 non-null float64\n",
      "MarkDown1       4032 non-null float64\n",
      "MarkDown2       2921 non-null float64\n",
      "MarkDown3       3613 non-null float64\n",
      "MarkDown4       3464 non-null float64\n",
      "MarkDown5       4050 non-null float64\n",
      "CPI             7605 non-null float64\n",
      "Unemployment    7605 non-null float64\n",
      "IsHoliday       8190 non-null bool\n",
      "dtypes: bool(1), float64(9), int64(1), object(1)\n",
      "memory usage: 711.9+ KB\n",
      "None\n",
      "   Store        Date  Temperature  Fuel_Price  MarkDown1  MarkDown2  \\\n",
      "0      1  2010-02-05        42.31       2.572        NaN        NaN   \n",
      "1      1  2010-02-12        38.51       2.548        NaN        NaN   \n",
      "2      1  2010-02-19        39.93       2.514        NaN        NaN   \n",
      "3      1  2010-02-26        46.63       2.561        NaN        NaN   \n",
      "4      1  2010-03-05        46.50       2.625        NaN        NaN   \n",
      "\n",
      "   MarkDown3  MarkDown4  MarkDown5         CPI  Unemployment  IsHoliday  \n",
      "0        NaN        NaN        NaN  211.096358         8.106      False  \n",
      "1        NaN        NaN        NaN  211.242170         8.106       True  \n",
      "2        NaN        NaN        NaN  211.289143         8.106      False  \n",
      "3        NaN        NaN        NaN  211.319643         8.106      False  \n",
      "4        NaN        NaN        NaN  211.350143         8.106      False  \n"
     ]
    }
   ],
   "source": [
    "print(features.info())\n",
    "print(features.head())"
   ]
  },
  {
   "cell_type": "code",
   "execution_count": 9,
   "metadata": {},
   "outputs": [
    {
     "name": "stdout",
     "output_type": "stream",
     "text": [
      "<class 'pandas.core.frame.DataFrame'>\n",
      "RangeIndex: 8190 entries, 0 to 8189\n",
      "Data columns (total 11 columns):\n",
      "Store           8190 non-null int64\n",
      "Date            8190 non-null datetime64[ns]\n",
      "Temperature     8190 non-null float64\n",
      "Fuel_Price      8190 non-null float64\n",
      "MarkDown1       4032 non-null float64\n",
      "MarkDown2       2921 non-null float64\n",
      "MarkDown3       3613 non-null float64\n",
      "MarkDown4       3464 non-null float64\n",
      "MarkDown5       4050 non-null float64\n",
      "CPI             7605 non-null float64\n",
      "Unemployment    7605 non-null float64\n",
      "dtypes: datetime64[ns](1), float64(9), int64(1)\n",
      "memory usage: 703.9 KB\n",
      "None\n",
      "   Store       Date  Temperature  Fuel_Price  MarkDown1  MarkDown2  MarkDown3  \\\n",
      "0      1 2010-02-05        42.31       2.572        NaN        NaN        NaN   \n",
      "1      1 2010-02-12        38.51       2.548        NaN        NaN        NaN   \n",
      "2      1 2010-02-19        39.93       2.514        NaN        NaN        NaN   \n",
      "3      1 2010-02-26        46.63       2.561        NaN        NaN        NaN   \n",
      "4      1 2010-03-05        46.50       2.625        NaN        NaN        NaN   \n",
      "\n",
      "   MarkDown4  MarkDown5         CPI  Unemployment  \n",
      "0        NaN        NaN  211.096358         8.106  \n",
      "1        NaN        NaN  211.242170         8.106  \n",
      "2        NaN        NaN  211.289143         8.106  \n",
      "3        NaN        NaN  211.319643         8.106  \n",
      "4        NaN        NaN  211.350143         8.106  \n"
     ]
    }
   ],
   "source": [
    "features['Date'] = pd.to_datetime(features['Date'])\n",
    "features = features.drop(columns=['IsHoliday'])\n",
    "print(features.info())\n",
    "print(features.head())"
   ]
  },
  {
   "cell_type": "code",
   "execution_count": 10,
   "metadata": {},
   "outputs": [
    {
     "name": "stdout",
     "output_type": "stream",
     "text": [
      "             Store  Temperature   Fuel_Price      MarkDown1      MarkDown2  \\\n",
      "count  8190.000000  8190.000000  8190.000000    4032.000000    2921.000000   \n",
      "mean     23.000000    59.356198     3.405992    7032.371786    3384.176594   \n",
      "std      12.987966    18.678607     0.431337    9262.747448    8793.583016   \n",
      "min       1.000000    -7.290000     2.472000   -2781.450000    -265.760000   \n",
      "25%      12.000000    45.902500     3.041000    1577.532500      68.880000   \n",
      "50%      23.000000    60.710000     3.513000    4743.580000     364.570000   \n",
      "75%      34.000000    73.880000     3.743000    8923.310000    2153.350000   \n",
      "max      45.000000   101.950000     4.468000  103184.980000  104519.540000   \n",
      "\n",
      "           MarkDown3     MarkDown4      MarkDown5          CPI  Unemployment  \n",
      "count    3613.000000   3464.000000    4050.000000  7605.000000   7605.000000  \n",
      "mean     1760.100180   3292.935886    4132.216422   172.460809      7.826821  \n",
      "std     11276.462208   6792.329861   13086.690278    39.738346      1.877259  \n",
      "min      -179.260000      0.220000    -185.170000   126.064000      3.684000  \n",
      "25%         6.600000    304.687500    1440.827500   132.364839      6.634000  \n",
      "50%        36.260000   1176.425000    2727.135000   182.764003      7.806000  \n",
      "75%       163.150000   3310.007500    4832.555000   213.932412      8.567000  \n",
      "max    149483.310000  67474.850000  771448.100000   228.976456     14.313000  \n"
     ]
    }
   ],
   "source": [
    "print(features.describe())"
   ]
  },
  {
   "cell_type": "code",
   "execution_count": 11,
   "metadata": {},
   "outputs": [
    {
     "name": "stdout",
     "output_type": "stream",
     "text": [
      "<class 'pandas.core.frame.DataFrame'>\n",
      "Int64Index: 421570 entries, 0 to 421569\n",
      "Data columns (total 7 columns):\n",
      "Store           421570 non-null int64\n",
      "Dept            421570 non-null int64\n",
      "Date            421570 non-null datetime64[ns]\n",
      "Weekly_Sales    421570 non-null float64\n",
      "IsHoliday       421570 non-null bool\n",
      "Fuel_Price      421570 non-null float64\n",
      "Temperature     421570 non-null float64\n",
      "dtypes: bool(1), datetime64[ns](1), float64(3), int64(2)\n",
      "memory usage: 22.9 MB\n",
      "None\n"
     ]
    }
   ],
   "source": [
    "train_merged = train_df.merge(features[['Store','Date','Fuel_Price','Temperature']],on=['Store','Date'])\n",
    "\n",
    "print(train_merged.info())"
   ]
  },
  {
   "cell_type": "code",
   "execution_count": 12,
   "metadata": {},
   "outputs": [],
   "source": [
    "train_df['Date'] = pd.to_datetime(train_df['Date']).dt.dayofyear\n",
    "y = train_df['Weekly_Sales'].values\n",
    "X = train_df.drop(columns=['Weekly_Sales']).values"
   ]
  },
  {
   "cell_type": "code",
   "execution_count": 13,
   "metadata": {},
   "outputs": [],
   "source": [
    "from sklearn.model_selection import train_test_split\n",
    "\n",
    "X_train, X_test, y_train, y_test = train_test_split(X, y, test_size=0.3, random_state=42)\n",
    "test_MAE_weight = [5 if x[3] else 1 for x in X_test]"
   ]
  },
  {
   "cell_type": "markdown",
   "metadata": {},
   "source": [
    "## test data"
   ]
  },
  {
   "cell_type": "code",
   "execution_count": 14,
   "metadata": {},
   "outputs": [
    {
     "name": "stdout",
     "output_type": "stream",
     "text": [
      "<class 'pandas.core.frame.DataFrame'>\n",
      "RangeIndex: 115064 entries, 0 to 115063\n",
      "Data columns (total 4 columns):\n",
      "Store        115064 non-null int64\n",
      "Dept         115064 non-null int64\n",
      "Date         115064 non-null int64\n",
      "IsHoliday    115064 non-null bool\n",
      "dtypes: bool(1), int64(3)\n",
      "memory usage: 2.7 MB\n",
      "None\n"
     ]
    }
   ],
   "source": [
    "test_df = pd.read_csv('test.csv')\n",
    "test_df['Date'] = pd.to_datetime(test_df['Date']).dt.dayofyear\n",
    "x_submission = test_df.values\n",
    "print(test_df.info())\n",
    "\n",
    "sample_sub = pd.read_csv('sampleSubmission.csv')"
   ]
  },
  {
   "cell_type": "markdown",
   "metadata": {},
   "source": [
    "# Linear"
   ]
  },
  {
   "cell_type": "code",
   "execution_count": 26,
   "metadata": {},
   "outputs": [],
   "source": [
    "from sklearn.metrics import mean_absolute_error\n",
    "from sklearn.linear_model import LinearRegression"
   ]
  },
  {
   "cell_type": "code",
   "execution_count": 16,
   "metadata": {},
   "outputs": [
    {
     "name": "stderr",
     "output_type": "stream",
     "text": [
      "/usr/local/lib/python3.6/site-packages/scipy/linalg/basic.py:1226: RuntimeWarning: internal gelsd driver lwork query error, required iwork dimension not returned. This is likely the result of LAPACK bug 0038, fixed in LAPACK 3.2.2 (released July 21, 2010). Falling back to 'gelss' driver.\n",
      "  warnings.warn(mesg, RuntimeWarning)\n"
     ]
    },
    {
     "data": {
      "text/plain": [
       "LinearRegression(copy_X=True, fit_intercept=True, n_jobs=1, normalize=False)"
      ]
     },
     "execution_count": 16,
     "metadata": {},
     "output_type": "execute_result"
    }
   ],
   "source": [
    "linear_reg = LinearRegression()\n",
    "linear_reg.fit(X_train,y_train)"
   ]
  },
  {
   "cell_type": "code",
   "execution_count": 27,
   "metadata": {},
   "outputs": [
    {
     "name": "stdout",
     "output_type": "stream",
     "text": [
      "15459.45323832029\n"
     ]
    }
   ],
   "source": [
    "y_predicted = linear_reg.predict(X_test)\n",
    "error = mean_absolute_error(y_test,y_predicted, sample_weight=test_MAE_weight)\n",
    "print(error)\n"
   ]
  },
  {
   "cell_type": "code",
   "execution_count": 18,
   "metadata": {},
   "outputs": [
    {
     "name": "stdout",
     "output_type": "stream",
     "text": [
      "[50932.42  3196.12 10125.03 ... 58317.53   229.    3443.32]\n"
     ]
    }
   ],
   "source": [
    "print(y_test)"
   ]
  },
  {
   "cell_type": "code",
   "execution_count": 19,
   "metadata": {},
   "outputs": [
    {
     "name": "stdout",
     "output_type": "stream",
     "text": [
      "[13469.08914837 21350.84564029  8747.92178055 ... 18011.72405651\n",
      " 12221.12814045 16723.4555034 ]\n"
     ]
    }
   ],
   "source": [
    "print(y_predicted)\n"
   ]
  },
  {
   "cell_type": "code",
   "execution_count": 20,
   "metadata": {},
   "outputs": [],
   "source": [
    "y = linear_reg.predict(x_submission)\n",
    "sample_sub['Weekly_Sales'] = y\n",
    "sample_sub.to_csv('linear_submission.csv',columns=['Id','Weekly_Sales'],index=False)"
   ]
  },
  {
   "cell_type": "markdown",
   "metadata": {},
   "source": [
    "# SGDRegressor"
   ]
  },
  {
   "cell_type": "code",
   "execution_count": 34,
   "metadata": {},
   "outputs": [],
   "source": [
    "from sklearn.linear_model import SGDRegressor"
   ]
  },
  {
   "cell_type": "code",
   "execution_count": 35,
   "metadata": {},
   "outputs": [
    {
     "name": "stderr",
     "output_type": "stream",
     "text": [
      "/usr/local/lib/python3.6/site-packages/sklearn/linear_model/stochastic_gradient.py:128: FutureWarning: max_iter and tol parameters have been added in <class 'sklearn.linear_model.stochastic_gradient.SGDRegressor'> in 0.19. If both are left unset, they default to max_iter=5 and tol=None. If tol is not None, max_iter defaults to max_iter=1000. From 0.21, default max_iter will be 1000, and default tol will be 1e-3.\n",
      "  \"and default tol will be 1e-3.\" % type(self), FutureWarning)\n"
     ]
    },
    {
     "data": {
      "text/plain": [
       "SGDRegressor(alpha=0.0001, average=False, epsilon=0.1, eta0=0.01,\n",
       "       fit_intercept=True, l1_ratio=0.15, learning_rate='invscaling',\n",
       "       loss='squared_loss', max_iter=None, n_iter=None, penalty='l2',\n",
       "       power_t=0.25, random_state=None, shuffle=True, tol=None, verbose=0,\n",
       "       warm_start=False)"
      ]
     },
     "execution_count": 35,
     "metadata": {},
     "output_type": "execute_result"
    }
   ],
   "source": [
    "sgd_reg = SGDRegressor()\n",
    "sgd_reg.fit(X_train,y_train)"
   ]
  },
  {
   "cell_type": "code",
   "execution_count": 36,
   "metadata": {},
   "outputs": [
    {
     "name": "stdout",
     "output_type": "stream",
     "text": [
      "1948803130898.1763\n"
     ]
    }
   ],
   "source": [
    "y_predicted = sgd_reg.predict(X_test)\n",
    "error = mean_absolute_error(y_test,y_predicted, sample_weight=test_MAE_weight)\n",
    "print(error)\n"
   ]
  },
  {
   "cell_type": "code",
   "execution_count": 37,
   "metadata": {},
   "outputs": [],
   "source": [
    "y = linear_reg.predict(x_submission)\n",
    "sample_sub['Weekly_Sales'] = y\n",
    "sample_sub.to_csv('sgd_submission.csv',columns=['Id','Weekly_Sales'],index=False)"
   ]
  },
  {
   "cell_type": "code",
   "execution_count": null,
   "metadata": {},
   "outputs": [],
   "source": []
  }
 ],
 "metadata": {
  "kernelspec": {
   "display_name": "Python 3",
   "language": "python",
   "name": "python3"
  },
  "language_info": {
   "codemirror_mode": {
    "name": "ipython",
    "version": 3
   },
   "file_extension": ".py",
   "mimetype": "text/x-python",
   "name": "python",
   "nbconvert_exporter": "python",
   "pygments_lexer": "ipython3",
   "version": "3.6.5"
  }
 },
 "nbformat": 4,
 "nbformat_minor": 2
}
