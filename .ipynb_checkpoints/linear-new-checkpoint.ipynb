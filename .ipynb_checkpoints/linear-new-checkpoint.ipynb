{
 "cells": [
  {
   "cell_type": "code",
   "execution_count": 1,
   "metadata": {},
   "outputs": [],
   "source": [
    "import pandas as pd\n",
    "import numpy as np"
   ]
  },
  {
   "cell_type": "markdown",
   "metadata": {},
   "source": [
    "# Preprocess"
   ]
  },
  {
   "cell_type": "code",
   "execution_count": 2,
   "metadata": {},
   "outputs": [],
   "source": [
    "features = pd.read_csv('features.csv')\n",
    "train_df = pd.read_csv('train.csv')"
   ]
  },
  {
   "cell_type": "code",
   "execution_count": 3,
   "metadata": {},
   "outputs": [
    {
     "name": "stdout",
     "output_type": "stream",
     "text": [
      "<class 'pandas.core.frame.DataFrame'>\n",
      "RangeIndex: 421570 entries, 0 to 421569\n",
      "Data columns (total 5 columns):\n",
      "Store           421570 non-null int64\n",
      "Dept            421570 non-null int64\n",
      "Date            421570 non-null object\n",
      "Weekly_Sales    421570 non-null float64\n",
      "IsHoliday       421570 non-null bool\n",
      "dtypes: bool(1), float64(1), int64(2), object(1)\n",
      "memory usage: 13.3+ MB\n",
      "None\n",
      "   Store  Dept        Date  Weekly_Sales  IsHoliday\n",
      "0      1     1  2010-02-05      24924.50      False\n",
      "1      1     1  2010-02-12      46039.49       True\n",
      "2      1     1  2010-02-19      41595.55      False\n",
      "3      1     1  2010-02-26      19403.54      False\n",
      "4      1     1  2010-03-05      21827.90      False\n"
     ]
    }
   ],
   "source": [
    "print(train_df.info())\n",
    "print(train_df.head())"
   ]
  },
  {
   "cell_type": "code",
   "execution_count": 4,
   "metadata": {},
   "outputs": [],
   "source": [
    "train_df['Date'] = pd.to_datetime(train_df['Date'])"
   ]
  },
  {
   "cell_type": "code",
   "execution_count": 5,
   "metadata": {},
   "outputs": [
    {
     "name": "stdout",
     "output_type": "stream",
     "text": [
      "<class 'pandas.core.frame.DataFrame'>\n",
      "RangeIndex: 421570 entries, 0 to 421569\n",
      "Data columns (total 5 columns):\n",
      "Store           421570 non-null int64\n",
      "Dept            421570 non-null int64\n",
      "Date            421570 non-null datetime64[ns]\n",
      "Weekly_Sales    421570 non-null float64\n",
      "IsHoliday       421570 non-null bool\n",
      "dtypes: bool(1), datetime64[ns](1), float64(1), int64(2)\n",
      "memory usage: 13.3 MB\n",
      "None\n",
      "   Store  Dept       Date  Weekly_Sales  IsHoliday\n",
      "0      1     1 2010-02-05      24924.50      False\n",
      "1      1     1 2010-02-12      46039.49       True\n",
      "2      1     1 2010-02-19      41595.55      False\n",
      "3      1     1 2010-02-26      19403.54      False\n",
      "4      1     1 2010-03-05      21827.90      False\n"
     ]
    }
   ],
   "source": [
    "print(train_df.info())\n",
    "print(train_df.head())"
   ]
  },
  {
   "cell_type": "code",
   "execution_count": 6,
   "metadata": {},
   "outputs": [
    {
     "name": "stdout",
     "output_type": "stream",
     "text": [
      "               Store           Dept   Weekly_Sales\n",
      "count  421570.000000  421570.000000  421570.000000\n",
      "mean       22.200546      44.260317   15981.258123\n",
      "std        12.785297      30.492054   22711.183519\n",
      "min         1.000000       1.000000   -4988.940000\n",
      "25%        11.000000      18.000000    2079.650000\n",
      "50%        22.000000      37.000000    7612.030000\n",
      "75%        33.000000      74.000000   20205.852500\n",
      "max        45.000000      99.000000  693099.360000\n"
     ]
    }
   ],
   "source": [
    "print(train_df.describe())"
   ]
  },
  {
   "cell_type": "markdown",
   "metadata": {},
   "source": [
    "## Feature"
   ]
  },
  {
   "cell_type": "code",
   "execution_count": 7,
   "metadata": {
    "scrolled": false
   },
   "outputs": [
    {
     "name": "stdout",
     "output_type": "stream",
     "text": [
      "<class 'pandas.core.frame.DataFrame'>\n",
      "RangeIndex: 8190 entries, 0 to 8189\n",
      "Data columns (total 12 columns):\n",
      "Store           8190 non-null int64\n",
      "Date            8190 non-null object\n",
      "Temperature     8190 non-null float64\n",
      "Fuel_Price      8190 non-null float64\n",
      "MarkDown1       4032 non-null float64\n",
      "MarkDown2       2921 non-null float64\n",
      "MarkDown3       3613 non-null float64\n",
      "MarkDown4       3464 non-null float64\n",
      "MarkDown5       4050 non-null float64\n",
      "CPI             7605 non-null float64\n",
      "Unemployment    7605 non-null float64\n",
      "IsHoliday       8190 non-null bool\n",
      "dtypes: bool(1), float64(9), int64(1), object(1)\n",
      "memory usage: 711.9+ KB\n",
      "None\n",
      "   Store        Date  Temperature  Fuel_Price  MarkDown1  MarkDown2  \\\n",
      "0      1  2010-02-05        42.31       2.572        NaN        NaN   \n",
      "1      1  2010-02-12        38.51       2.548        NaN        NaN   \n",
      "2      1  2010-02-19        39.93       2.514        NaN        NaN   \n",
      "3      1  2010-02-26        46.63       2.561        NaN        NaN   \n",
      "4      1  2010-03-05        46.50       2.625        NaN        NaN   \n",
      "\n",
      "   MarkDown3  MarkDown4  MarkDown5         CPI  Unemployment  IsHoliday  \n",
      "0        NaN        NaN        NaN  211.096358         8.106      False  \n",
      "1        NaN        NaN        NaN  211.242170         8.106       True  \n",
      "2        NaN        NaN        NaN  211.289143         8.106      False  \n",
      "3        NaN        NaN        NaN  211.319643         8.106      False  \n",
      "4        NaN        NaN        NaN  211.350143         8.106      False  \n"
     ]
    }
   ],
   "source": [
    "print(features.info())\n",
    "print(features.head())"
   ]
  },
  {
   "cell_type": "code",
   "execution_count": 8,
   "metadata": {},
   "outputs": [
    {
     "name": "stdout",
     "output_type": "stream",
     "text": [
      "<class 'pandas.core.frame.DataFrame'>\n",
      "RangeIndex: 8190 entries, 0 to 8189\n",
      "Data columns (total 11 columns):\n",
      "Store           8190 non-null int64\n",
      "Date            8190 non-null datetime64[ns]\n",
      "Temperature     8190 non-null float64\n",
      "Fuel_Price      8190 non-null float64\n",
      "MarkDown1       4032 non-null float64\n",
      "MarkDown2       2921 non-null float64\n",
      "MarkDown3       3613 non-null float64\n",
      "MarkDown4       3464 non-null float64\n",
      "MarkDown5       4050 non-null float64\n",
      "CPI             7605 non-null float64\n",
      "Unemployment    7605 non-null float64\n",
      "dtypes: datetime64[ns](1), float64(9), int64(1)\n",
      "memory usage: 703.9 KB\n",
      "None\n",
      "   Store       Date  Temperature  Fuel_Price  MarkDown1  MarkDown2  MarkDown3  \\\n",
      "0      1 2010-02-05        42.31       2.572        NaN        NaN        NaN   \n",
      "1      1 2010-02-12        38.51       2.548        NaN        NaN        NaN   \n",
      "2      1 2010-02-19        39.93       2.514        NaN        NaN        NaN   \n",
      "3      1 2010-02-26        46.63       2.561        NaN        NaN        NaN   \n",
      "4      1 2010-03-05        46.50       2.625        NaN        NaN        NaN   \n",
      "\n",
      "   MarkDown4  MarkDown5         CPI  Unemployment  \n",
      "0        NaN        NaN  211.096358         8.106  \n",
      "1        NaN        NaN  211.242170         8.106  \n",
      "2        NaN        NaN  211.289143         8.106  \n",
      "3        NaN        NaN  211.319643         8.106  \n",
      "4        NaN        NaN  211.350143         8.106  \n"
     ]
    }
   ],
   "source": [
    "features['Date'] = pd.to_datetime(features['Date'])\n",
    "features = features.drop(columns=['IsHoliday'])\n",
    "print(features.info())\n",
    "print(features.head())\n",
    "\n"
   ]
  },
  {
   "cell_type": "code",
   "execution_count": 9,
   "metadata": {},
   "outputs": [
    {
     "name": "stdout",
     "output_type": "stream",
     "text": [
      "             Store  Temperature   Fuel_Price      MarkDown1      MarkDown2  \\\n",
      "count  8190.000000  8190.000000  8190.000000    4032.000000    2921.000000   \n",
      "mean     23.000000    59.356198     3.405992    7032.371786    3384.176594   \n",
      "std      12.987966    18.678607     0.431337    9262.747448    8793.583016   \n",
      "min       1.000000    -7.290000     2.472000   -2781.450000    -265.760000   \n",
      "25%      12.000000    45.902500     3.041000    1577.532500      68.880000   \n",
      "50%      23.000000    60.710000     3.513000    4743.580000     364.570000   \n",
      "75%      34.000000    73.880000     3.743000    8923.310000    2153.350000   \n",
      "max      45.000000   101.950000     4.468000  103184.980000  104519.540000   \n",
      "\n",
      "           MarkDown3     MarkDown4      MarkDown5          CPI  Unemployment  \n",
      "count    3613.000000   3464.000000    4050.000000  7605.000000   7605.000000  \n",
      "mean     1760.100180   3292.935886    4132.216422   172.460809      7.826821  \n",
      "std     11276.462208   6792.329861   13086.690278    39.738346      1.877259  \n",
      "min      -179.260000      0.220000    -185.170000   126.064000      3.684000  \n",
      "25%         6.600000    304.687500    1440.827500   132.364839      6.634000  \n",
      "50%        36.260000   1176.425000    2727.135000   182.764003      7.806000  \n",
      "75%       163.150000   3310.007500    4832.555000   213.932412      8.567000  \n",
      "max    149483.310000  67474.850000  771448.100000   228.976456     14.313000  \n"
     ]
    }
   ],
   "source": [
    "print(features.describe())"
   ]
  },
  {
   "cell_type": "code",
   "execution_count": 10,
   "metadata": {},
   "outputs": [
    {
     "name": "stdout",
     "output_type": "stream",
     "text": [
      "<class 'pandas.core.frame.DataFrame'>\n",
      "Int64Index: 421570 entries, 0 to 421569\n",
      "Data columns (total 7 columns):\n",
      "Store           421570 non-null int64\n",
      "Dept            421570 non-null int64\n",
      "Date            421570 non-null datetime64[ns]\n",
      "Weekly_Sales    421570 non-null float64\n",
      "IsHoliday       421570 non-null bool\n",
      "Fuel_Price      421570 non-null float64\n",
      "Temperature     421570 non-null float64\n",
      "dtypes: bool(1), datetime64[ns](1), float64(3), int64(2)\n",
      "memory usage: 22.9 MB\n",
      "None\n"
     ]
    }
   ],
   "source": [
    "train_merged = train_df.merge(features[['Store','Date','Fuel_Price','Temperature']],on=['Store','Date'])\n",
    "\n",
    "print(train_merged.info())"
   ]
  },
  {
   "cell_type": "code",
   "execution_count": 11,
   "metadata": {},
   "outputs": [],
   "source": [
    "train_df['Week'] = pd.to_datetime(train_df['Date']).dt.week\n",
    "train_df=train_df.drop(columns=['Date'])\n",
    "\n",
    "# train_df = train_df.merge(features[['Store','Date','MarkDown4']],on=['Store','Date'])\n",
    "\n",
    "# y = train_df['Weekly_Sales'].values\n",
    "# X = train_df.drop(columns=['Weekly_Sales']).values"
   ]
  },
  {
   "cell_type": "code",
   "execution_count": 12,
   "metadata": {},
   "outputs": [
    {
     "name": "stdout",
     "output_type": "stream",
     "text": [
      "<class 'pandas.core.frame.DataFrame'>\n",
      "RangeIndex: 421570 entries, 0 to 421569\n",
      "Data columns (total 5 columns):\n",
      "Store           421570 non-null int64\n",
      "Dept            421570 non-null int64\n",
      "Weekly_Sales    421570 non-null float64\n",
      "IsHoliday       421570 non-null bool\n",
      "Week            421570 non-null int64\n",
      "dtypes: bool(1), float64(1), int64(3)\n",
      "memory usage: 13.3 MB\n",
      "None\n",
      "[24924.5  46039.49 41595.55 19403.54 21827.9  21043.39 22136.64 26229.21\n",
      " 57258.43 42960.91 17596.96 16145.35 16555.11 17413.94 18926.74 14773.04\n",
      " 15580.43 17558.09 16637.62 16216.27 16328.72 16333.14 17688.76 17150.84\n",
      " 15360.45 15381.82 17508.41 15536.4  15740.13 15793.87 16241.78 18194.74\n",
      " 19354.23 18122.52 20094.19 23388.03 26978.34 25543.04 38640.93 34238.88\n",
      " 19549.39 19552.84 18820.29 22517.56 31497.65 44912.86 55931.23 19124.58\n",
      " 15984.24 17359.7  17341.47 18461.18 21665.76 37887.17 46845.87 19363.83\n",
      " 20327.61 21280.4  20334.23 20881.1  20398.09 23873.79 28762.37 50510.31\n",
      " 41512.39 20138.19 17235.15 15136.78 15741.6  16434.15 15883.52 14978.09\n",
      " 15682.81 15363.5  16148.87 15654.85 15766.6  15922.41 15295.55 14539.79\n",
      " 14689.24 14537.37 15277.27 17746.68 18535.48 17859.3  18337.68 20797.58\n",
      " 23077.55 23351.8  31579.9  39886.06 18689.54 19050.66 20911.25 25293.49\n",
      " 33305.92 45773.03 46788.75 23350.88 16567.69 16894.4  18365.1  18378.16\n",
      " 23510.49 36988.49 54060.1  20124.22 20113.03 21140.07 22366.88 22107.7\n",
      " 28952.86 57592.12 34684.21 16976.19 16347.6  17147.44 18164.2  18517.79\n",
      " 16963.55 16065.49 17666.   17558.82 16633.41 15722.82 17823.37 16566.18\n",
      " 16348.06 15731.18 16628.31 16119.92 17330.7  16286.4  16680.24 18322.37\n",
      " 19616.22 19251.5  18947.81 21904.47 22764.01 24185.27 27390.81]\n",
      "[[False 5]\n",
      " [True 6]\n",
      " [False 7]\n",
      " [False 8]\n",
      " [False 9]\n",
      " [False 10]\n",
      " [False 11]\n",
      " [False 12]\n",
      " [False 13]\n",
      " [False 14]\n",
      " [False 15]\n",
      " [False 16]\n",
      " [False 17]\n",
      " [False 18]\n",
      " [False 19]\n",
      " [False 20]\n",
      " [False 21]\n",
      " [False 22]\n",
      " [False 23]\n",
      " [False 24]\n",
      " [False 25]\n",
      " [False 26]\n",
      " [False 27]\n",
      " [False 28]\n",
      " [False 29]\n",
      " [False 30]\n",
      " [False 31]\n",
      " [False 32]\n",
      " [False 33]\n",
      " [False 34]\n",
      " [False 35]\n",
      " [True 36]\n",
      " [False 37]\n",
      " [False 38]\n",
      " [False 39]\n",
      " [False 40]\n",
      " [False 41]\n",
      " [False 42]\n",
      " [False 43]\n",
      " [False 44]\n",
      " [False 45]\n",
      " [False 46]\n",
      " [True 47]\n",
      " [False 48]\n",
      " [False 49]\n",
      " [False 50]\n",
      " [False 51]\n",
      " [True 52]\n",
      " [False 1]\n",
      " [False 2]\n",
      " [False 3]\n",
      " [False 4]\n",
      " [False 5]\n",
      " [True 6]\n",
      " [False 7]\n",
      " [False 8]\n",
      " [False 9]\n",
      " [False 10]\n",
      " [False 11]\n",
      " [False 12]\n",
      " [False 13]\n",
      " [False 14]\n",
      " [False 15]\n",
      " [False 16]\n",
      " [False 17]\n",
      " [False 18]\n",
      " [False 19]\n",
      " [False 20]\n",
      " [False 21]\n",
      " [False 22]\n",
      " [False 23]\n",
      " [False 24]\n",
      " [False 25]\n",
      " [False 26]\n",
      " [False 27]\n",
      " [False 28]\n",
      " [False 29]\n",
      " [False 30]\n",
      " [False 31]\n",
      " [False 32]\n",
      " [False 33]\n",
      " [False 34]\n",
      " [False 35]\n",
      " [True 36]\n",
      " [False 37]\n",
      " [False 38]\n",
      " [False 39]\n",
      " [False 40]\n",
      " [False 41]\n",
      " [False 42]\n",
      " [False 43]\n",
      " [False 44]\n",
      " [False 45]\n",
      " [False 46]\n",
      " [True 47]\n",
      " [False 48]\n",
      " [False 49]\n",
      " [False 50]\n",
      " [False 51]\n",
      " [True 52]\n",
      " [False 1]\n",
      " [False 2]\n",
      " [False 3]\n",
      " [False 4]\n",
      " [False 5]\n",
      " [True 6]\n",
      " [False 7]\n",
      " [False 8]\n",
      " [False 9]\n",
      " [False 10]\n",
      " [False 11]\n",
      " [False 12]\n",
      " [False 13]\n",
      " [False 14]\n",
      " [False 15]\n",
      " [False 16]\n",
      " [False 17]\n",
      " [False 18]\n",
      " [False 19]\n",
      " [False 20]\n",
      " [False 21]\n",
      " [False 22]\n",
      " [False 23]\n",
      " [False 24]\n",
      " [False 25]\n",
      " [False 26]\n",
      " [False 27]\n",
      " [False 28]\n",
      " [False 29]\n",
      " [False 30]\n",
      " [False 31]\n",
      " [False 32]\n",
      " [False 33]\n",
      " [False 34]\n",
      " [False 35]\n",
      " [True 36]\n",
      " [False 37]\n",
      " [False 38]\n",
      " [False 39]\n",
      " [False 40]\n",
      " [False 41]\n",
      " [False 42]\n",
      " [False 43]]\n"
     ]
    }
   ],
   "source": [
    "print(train_df.info())\n",
    "\n",
    "y = train_df[['Store','Dept','Weekly_Sales']]\n",
    "X = train_df.drop(columns=['Weekly_Sales'])\n",
    "\n",
    "y = {key:value['Weekly_Sales'].values for key,value in y.groupby(['Store','Dept'])}\n",
    "X = {key:value['Week'].values for key,value in X.groupby(['Store','Dept'])}\n",
    "\n",
    "print(y[(1,1)])\n",
    "print(X[(1,1)])\n",
    "\n",
    "y_miss = train_df[['Store','Dept','Weekly_Sales']]\n",
    "X_miss = train_df.drop(columns=['Weekly_Sales'])\n",
    "\n",
    "y_miss = {key:value['Weekly_Sales'].values for key,value in y_miss.groupby(['Store'])}\n",
    "X_miss = {key:value['Week'].values for key,value in X_miss.groupby(['Store'])}\n",
    "\n",
    "# for i, j in train_df.groupby(['Store','Dept']):\n",
    "\n",
    "# t_df = {i:{j:y for j,y in x.groupby(x['Dept'])} for i, x in train_df.groupby(train_df['Store'])}\n",
    "\n",
    "# X_train = dict()\n",
    "# y_train = dict() \n",
    "# X_test = dict()\n",
    "# y_test = dict()\n",
    "\n",
    "# from sklearn.model_selection import train_test_split\n",
    "# for dfs in t_df.keys():\n",
    "#     X_train[dfs] = dict()\n",
    "#     X_test[dfs] = dict()\n",
    "#     y_train[dfs] = dict()\n",
    "#     y_test[dfs] = dict()\n",
    "#     for df in t_df[dfs].keys():\n",
    "#         y = t_df[dfs][df]['Weekly_Sales'].values\n",
    "#         X = t_df[dfs][df].drop(columns=['Weekly_Sales']).values\n",
    "# #         if(len(X)<=1):\n",
    "# #             X_train[dfs][df] = X\n",
    "# #             y_train[dfs][df] = y\n",
    "# #             X_test = np.array([])\n",
    "# #             y_test = np.array([])\n",
    "# #         else:\n",
    "#         X_train[dfs][df], X_test[dfs][df], y_train[dfs][df], y_test[dfs][df] = train_test_split(X, y, train_size=0.9, random_state=42)\n"
   ]
  },
  {
   "cell_type": "code",
   "execution_count": 13,
   "metadata": {},
   "outputs": [],
   "source": [
    "\n",
    "# X_train, X_test, y_train, y_test = train_test_split(X, y, test_size=0.3, random_state=42)\n",
    "# test_MAE_weight = [5 if x[3] else 1 for x in X_test]"
   ]
  },
  {
   "cell_type": "markdown",
   "metadata": {},
   "source": [
    "## test data"
   ]
  },
  {
   "cell_type": "code",
   "execution_count": 14,
   "metadata": {},
   "outputs": [
    {
     "name": "stdout",
     "output_type": "stream",
     "text": [
      "        Store  Dept       Date  IsHoliday  Week\n",
      "0           1     1 2012-11-02      False    44\n",
      "1           1     1 2012-11-09      False    45\n",
      "2           1     1 2012-11-16      False    46\n",
      "3           1     1 2012-11-23       True    47\n",
      "4           1     1 2012-11-30      False    48\n",
      "5           1     1 2012-12-07      False    49\n",
      "6           1     1 2012-12-14      False    50\n",
      "7           1     1 2012-12-21      False    51\n",
      "8           1     1 2012-12-28       True    52\n",
      "9           1     1 2013-01-04      False     1\n",
      "10          1     1 2013-01-11      False     2\n",
      "11          1     1 2013-01-18      False     3\n",
      "12          1     1 2013-01-25      False     4\n",
      "13          1     1 2013-02-01      False     5\n",
      "14          1     1 2013-02-08       True     6\n",
      "15          1     1 2013-02-15      False     7\n",
      "16          1     1 2013-02-22      False     8\n",
      "17          1     1 2013-03-01      False     9\n",
      "18          1     1 2013-03-08      False    10\n",
      "19          1     1 2013-03-15      False    11\n",
      "20          1     1 2013-03-22      False    12\n",
      "21          1     1 2013-03-29      False    13\n",
      "22          1     1 2013-04-05      False    14\n",
      "23          1     1 2013-04-12      False    15\n",
      "24          1     1 2013-04-19      False    16\n",
      "25          1     1 2013-04-26      False    17\n",
      "26          1     1 2013-05-03      False    18\n",
      "27          1     1 2013-05-10      False    19\n",
      "28          1     1 2013-05-17      False    20\n",
      "29          1     1 2013-05-24      False    21\n",
      "...       ...   ...        ...        ...   ...\n",
      "115034     45    98 2013-01-04      False     1\n",
      "115035     45    98 2013-01-11      False     2\n",
      "115036     45    98 2013-01-18      False     3\n",
      "115037     45    98 2013-01-25      False     4\n",
      "115038     45    98 2013-02-01      False     5\n",
      "115039     45    98 2013-02-08       True     6\n",
      "115040     45    98 2013-02-15      False     7\n",
      "115041     45    98 2013-02-22      False     8\n",
      "115042     45    98 2013-03-01      False     9\n",
      "115043     45    98 2013-03-08      False    10\n",
      "115044     45    98 2013-03-15      False    11\n",
      "115045     45    98 2013-03-22      False    12\n",
      "115046     45    98 2013-03-29      False    13\n",
      "115047     45    98 2013-04-05      False    14\n",
      "115048     45    98 2013-04-12      False    15\n",
      "115049     45    98 2013-04-19      False    16\n",
      "115050     45    98 2013-04-26      False    17\n",
      "115051     45    98 2013-05-03      False    18\n",
      "115052     45    98 2013-05-10      False    19\n",
      "115053     45    98 2013-05-17      False    20\n",
      "115054     45    98 2013-05-24      False    21\n",
      "115055     45    98 2013-05-31      False    22\n",
      "115056     45    98 2013-06-07      False    23\n",
      "115057     45    98 2013-06-14      False    24\n",
      "115058     45    98 2013-06-21      False    25\n",
      "115059     45    98 2013-06-28      False    26\n",
      "115060     45    98 2013-07-05      False    27\n",
      "115061     45    98 2013-07-12      False    28\n",
      "115062     45    98 2013-07-19      False    29\n",
      "115063     45    98 2013-07-26      False    30\n",
      "\n",
      "[115064 rows x 5 columns]\n"
     ]
    }
   ],
   "source": [
    "test_df = pd.read_csv('test.csv')\n",
    "test_df['Date'] = pd.to_datetime(test_df['Date'])\n",
    "test_df['Week'] = pd.to_datetime(test_df['Date']).dt.week\n",
    "# test_df=test_df.drop(columns=['Date'])\n",
    "x_submission = test_df\n",
    "# print(test_df[['Date','Week']])\n",
    "print(test_df)\n",
    "sample_sub = pd.read_csv('sampleSubmission.csv')"
   ]
  },
  {
   "cell_type": "markdown",
   "metadata": {},
   "source": [
    "# Linear"
   ]
  },
  {
   "cell_type": "code",
   "execution_count": 15,
   "metadata": {},
   "outputs": [],
   "source": [
    "from sklearn.metrics import mean_absolute_error\n",
    "from sklearn.linear_model import SGDRegressor"
   ]
  },
  {
   "cell_type": "code",
   "execution_count": 16,
   "metadata": {},
   "outputs": [
    {
     "name": "stderr",
     "output_type": "stream",
     "text": [
      "/usr/local/lib/python3.6/site-packages/sklearn/linear_model/stochastic_gradient.py:128: FutureWarning: max_iter and tol parameters have been added in <class 'sklearn.linear_model.stochastic_gradient.SGDRegressor'> in 0.19. If both are left unset, they default to max_iter=5 and tol=None. If tol is not None, max_iter defaults to max_iter=1000. From 0.21, default max_iter will be 1000, and default tol will be 1e-3.\n",
      "  \"and default tol will be 1e-3.\" % type(self), FutureWarning)\n"
     ]
    }
   ],
   "source": [
    "linear_reg = dict()\n",
    "for key1,key2 in X:\n",
    "    linear_reg[(key1,key2)] = SGDRegressor()\n",
    "    linear_reg[(key1,key2)].fit(X[(key1,key2)],y[(key1,key2)])\n",
    "for key in X_miss:\n",
    "    linear_reg[(key,0)] = SGDRegressor()\n",
    "    linear_reg[(key,0)].fit(X_miss[key],y_miss[key])"
   ]
  },
  {
   "cell_type": "code",
   "execution_count": 17,
   "metadata": {},
   "outputs": [
    {
     "name": "stdout",
     "output_type": "stream",
     "text": [
      "[3.34629424e+11]\n"
     ]
    }
   ],
   "source": [
    "print(linear_reg[(1,1)].predict([[False,44]]))"
   ]
  },
  {
   "cell_type": "code",
   "execution_count": 18,
   "metadata": {},
   "outputs": [
    {
     "name": "stdout",
     "output_type": "stream",
     "text": [
      "               Store          Dept          Date     IsHoliday          Week\n",
      "0       3.346294e+11  3.346294e+11  3.346294e+11  3.346294e+11  3.346294e+11\n",
      "1       3.417869e+11  3.417869e+11  3.417869e+11  3.417869e+11  3.417869e+11\n",
      "2       3.489444e+11  3.489444e+11  3.489444e+11  3.489444e+11  3.489444e+11\n",
      "3       3.484986e+11  3.484986e+11  3.484986e+11  3.484986e+11  3.484986e+11\n",
      "4       3.632595e+11  3.632595e+11  3.632595e+11  3.632595e+11  3.632595e+11\n",
      "5       3.704170e+11  3.704170e+11  3.704170e+11  3.704170e+11  3.704170e+11\n",
      "6       3.775745e+11  3.775745e+11  3.775745e+11  3.775745e+11  3.775745e+11\n",
      "7       3.847320e+11  3.847320e+11  3.847320e+11  3.847320e+11  3.847320e+11\n",
      "8       3.842861e+11  3.842861e+11  3.842861e+11  3.842861e+11  3.842861e+11\n",
      "9       2.685658e+10  2.685658e+10  2.685658e+10  2.685658e+10  2.685658e+10\n",
      "10      3.401409e+10  3.401409e+10  3.401409e+10  3.401409e+10  3.401409e+10\n",
      "11      4.117160e+10  4.117160e+10  4.117160e+10  4.117160e+10  4.117160e+10\n",
      "12      4.832911e+10  4.832911e+10  4.832911e+10  4.832911e+10  4.832911e+10\n",
      "13      5.548662e+10  5.548662e+10  5.548662e+10  5.548662e+10  5.548662e+10\n",
      "14      5.504074e+10  5.504074e+10  5.504074e+10  5.504074e+10  5.504074e+10\n",
      "15      6.980163e+10  6.980163e+10  6.980163e+10  6.980163e+10  6.980163e+10\n",
      "16      7.695914e+10  7.695914e+10  7.695914e+10  7.695914e+10  7.695914e+10\n",
      "17      8.411665e+10  8.411665e+10  8.411665e+10  8.411665e+10  8.411665e+10\n",
      "18      9.127416e+10  9.127416e+10  9.127416e+10  9.127416e+10  9.127416e+10\n",
      "19      9.843166e+10  9.843166e+10  9.843166e+10  9.843166e+10  9.843166e+10\n",
      "20      1.055892e+11  1.055892e+11  1.055892e+11  1.055892e+11  1.055892e+11\n",
      "21      1.127467e+11  1.127467e+11  1.127467e+11  1.127467e+11  1.127467e+11\n",
      "22      1.199042e+11  1.199042e+11  1.199042e+11  1.199042e+11  1.199042e+11\n",
      "23      1.270617e+11  1.270617e+11  1.270617e+11  1.270617e+11  1.270617e+11\n",
      "24      1.342192e+11  1.342192e+11  1.342192e+11  1.342192e+11  1.342192e+11\n",
      "25      1.413767e+11  1.413767e+11  1.413767e+11  1.413767e+11  1.413767e+11\n",
      "26      1.485342e+11  1.485342e+11  1.485342e+11  1.485342e+11  1.485342e+11\n",
      "27      1.556917e+11  1.556917e+11  1.556917e+11  1.556917e+11  1.556917e+11\n",
      "28      1.628492e+11  1.628492e+11  1.628492e+11  1.628492e+11  1.628492e+11\n",
      "29      1.700067e+11  1.700067e+11  1.700067e+11  1.700067e+11  1.700067e+11\n",
      "...              ...           ...           ...           ...           ...\n",
      "115034 -6.334562e+06 -6.334562e+06 -6.334562e+06 -6.334562e+06 -6.334562e+06\n",
      "115035 -6.271623e+06 -6.271623e+06 -6.271623e+06 -6.271623e+06 -6.271623e+06\n",
      "115036 -6.208684e+06 -6.208684e+06 -6.208684e+06 -6.208684e+06 -6.208684e+06\n",
      "115037 -6.145745e+06 -6.145745e+06 -6.145745e+06 -6.145745e+06 -6.145745e+06\n",
      "115038 -6.082806e+06 -6.082806e+06 -6.082806e+06 -6.082806e+06 -6.082806e+06\n",
      "115039  3.332196e+09  3.332196e+09  3.332196e+09  3.332196e+09  3.332196e+09\n",
      "115040 -5.956928e+06 -5.956928e+06 -5.956928e+06 -5.956928e+06 -5.956928e+06\n",
      "115041 -5.893989e+06 -5.893989e+06 -5.893989e+06 -5.893989e+06 -5.893989e+06\n",
      "115042 -5.831050e+06 -5.831050e+06 -5.831050e+06 -5.831050e+06 -5.831050e+06\n",
      "115043 -5.768110e+06 -5.768110e+06 -5.768110e+06 -5.768110e+06 -5.768110e+06\n",
      "115044 -5.705171e+06 -5.705171e+06 -5.705171e+06 -5.705171e+06 -5.705171e+06\n",
      "115045 -5.642232e+06 -5.642232e+06 -5.642232e+06 -5.642232e+06 -5.642232e+06\n",
      "115046 -5.579293e+06 -5.579293e+06 -5.579293e+06 -5.579293e+06 -5.579293e+06\n",
      "115047 -5.516354e+06 -5.516354e+06 -5.516354e+06 -5.516354e+06 -5.516354e+06\n",
      "115048 -5.453415e+06 -5.453415e+06 -5.453415e+06 -5.453415e+06 -5.453415e+06\n",
      "115049 -5.390476e+06 -5.390476e+06 -5.390476e+06 -5.390476e+06 -5.390476e+06\n",
      "115050 -5.327537e+06 -5.327537e+06 -5.327537e+06 -5.327537e+06 -5.327537e+06\n",
      "115051 -5.264598e+06 -5.264598e+06 -5.264598e+06 -5.264598e+06 -5.264598e+06\n",
      "115052 -5.201658e+06 -5.201658e+06 -5.201658e+06 -5.201658e+06 -5.201658e+06\n",
      "115053 -5.138719e+06 -5.138719e+06 -5.138719e+06 -5.138719e+06 -5.138719e+06\n",
      "115054 -5.075780e+06 -5.075780e+06 -5.075780e+06 -5.075780e+06 -5.075780e+06\n",
      "115055 -5.012841e+06 -5.012841e+06 -5.012841e+06 -5.012841e+06 -5.012841e+06\n",
      "115056 -4.949902e+06 -4.949902e+06 -4.949902e+06 -4.949902e+06 -4.949902e+06\n",
      "115057 -4.886963e+06 -4.886963e+06 -4.886963e+06 -4.886963e+06 -4.886963e+06\n",
      "115058 -4.824024e+06 -4.824024e+06 -4.824024e+06 -4.824024e+06 -4.824024e+06\n",
      "115059 -4.761085e+06 -4.761085e+06 -4.761085e+06 -4.761085e+06 -4.761085e+06\n",
      "115060 -4.698146e+06 -4.698146e+06 -4.698146e+06 -4.698146e+06 -4.698146e+06\n",
      "115061 -4.635206e+06 -4.635206e+06 -4.635206e+06 -4.635206e+06 -4.635206e+06\n",
      "115062 -4.572267e+06 -4.572267e+06 -4.572267e+06 -4.572267e+06 -4.572267e+06\n",
      "115063 -4.509328e+06 -4.509328e+06 -4.509328e+06 -4.509328e+06 -4.509328e+06\n",
      "\n",
      "[115064 rows x 5 columns]\n"
     ]
    }
   ],
   "source": [
    "y = x_submission.apply(lambda x: linear_reg[(x['Store'],x['Dept'])if(x['Store'],x['Dept'])in linear_reg else(x['Store'],0) ].predict(x['Week'].values.reshape(1, -1)),axis=1)\n",
    "# y = x_submission.apply(lambda x: x[['IsHoliday','Week']],axis=1)\n",
    "\n",
    "print(y)\n",
    "# print(x_submission[x_submission['Week']==2])\n",
    "sample_sub['Weekly_Sales'] = y\n",
    "sample_sub.to_csv('logistic_submission.csv',columns=['Id','Weekly_Sales'],index=False)"
   ]
  },
  {
   "cell_type": "code",
   "execution_count": null,
   "metadata": {},
   "outputs": [],
   "source": []
  }
 ],
 "metadata": {
  "kernelspec": {
   "display_name": "Python 3",
   "language": "python",
   "name": "python3"
  },
  "language_info": {
   "codemirror_mode": {
    "name": "ipython",
    "version": 3
   },
   "file_extension": ".py",
   "mimetype": "text/x-python",
   "name": "python",
   "nbconvert_exporter": "python",
   "pygments_lexer": "ipython3",
   "version": "3.6.5"
  }
 },
 "nbformat": 4,
 "nbformat_minor": 2
}
