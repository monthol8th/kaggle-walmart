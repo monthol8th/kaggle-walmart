{
 "cells": [
  {
   "cell_type": "code",
   "execution_count": 1,
   "metadata": {},
   "outputs": [],
   "source": [
    "%matplotlib inline\n",
    "\n",
    "import pandas as pd\n",
    "import matplotlib.pyplot as plt\n"
   ]
  },
  {
   "cell_type": "markdown",
   "metadata": {},
   "source": [
    "# Preprocess"
   ]
  },
  {
   "cell_type": "code",
   "execution_count": 2,
   "metadata": {},
   "outputs": [],
   "source": [
    "features = pd.read_csv('features.csv')\n",
    "train_df = pd.read_csv('train.csv')"
   ]
  },
  {
   "cell_type": "code",
   "execution_count": 3,
   "metadata": {},
   "outputs": [
    {
     "name": "stdout",
     "output_type": "stream",
     "text": [
      "<class 'pandas.core.frame.DataFrame'>\n",
      "RangeIndex: 421570 entries, 0 to 421569\n",
      "Data columns (total 5 columns):\n",
      "Store           421570 non-null int64\n",
      "Dept            421570 non-null int64\n",
      "Date            421570 non-null object\n",
      "Weekly_Sales    421570 non-null float64\n",
      "IsHoliday       421570 non-null bool\n",
      "dtypes: bool(1), float64(1), int64(2), object(1)\n",
      "memory usage: 13.3+ MB\n",
      "None\n",
      "   Store  Dept        Date  Weekly_Sales  IsHoliday\n",
      "0      1     1  2010-02-05      24924.50      False\n",
      "1      1     1  2010-02-12      46039.49       True\n",
      "2      1     1  2010-02-19      41595.55      False\n",
      "3      1     1  2010-02-26      19403.54      False\n",
      "4      1     1  2010-03-05      21827.90      False\n"
     ]
    }
   ],
   "source": [
    "print(train_df.info())\n",
    "print(train_df.head())"
   ]
  },
  {
   "cell_type": "code",
   "execution_count": 4,
   "metadata": {},
   "outputs": [],
   "source": [
    "train_df['Date'] = pd.to_datetime(train_df['Date'])"
   ]
  },
  {
   "cell_type": "code",
   "execution_count": 5,
   "metadata": {},
   "outputs": [
    {
     "name": "stdout",
     "output_type": "stream",
     "text": [
      "<class 'pandas.core.frame.DataFrame'>\n",
      "RangeIndex: 421570 entries, 0 to 421569\n",
      "Data columns (total 5 columns):\n",
      "Store           421570 non-null int64\n",
      "Dept            421570 non-null int64\n",
      "Date            421570 non-null datetime64[ns]\n",
      "Weekly_Sales    421570 non-null float64\n",
      "IsHoliday       421570 non-null bool\n",
      "dtypes: bool(1), datetime64[ns](1), float64(1), int64(2)\n",
      "memory usage: 13.3 MB\n",
      "None\n",
      "   Store  Dept       Date  Weekly_Sales  IsHoliday\n",
      "0      1     1 2010-02-05      24924.50      False\n",
      "1      1     1 2010-02-12      46039.49       True\n",
      "2      1     1 2010-02-19      41595.55      False\n",
      "3      1     1 2010-02-26      19403.54      False\n",
      "4      1     1 2010-03-05      21827.90      False\n"
     ]
    }
   ],
   "source": [
    "print(train_df.info())\n",
    "print(train_df.head())"
   ]
  },
  {
   "cell_type": "code",
   "execution_count": 6,
   "metadata": {},
   "outputs": [
    {
     "name": "stdout",
     "output_type": "stream",
     "text": [
      "               Store           Dept   Weekly_Sales\n",
      "count  421570.000000  421570.000000  421570.000000\n",
      "mean       22.200546      44.260317   15981.258123\n",
      "std        12.785297      30.492054   22711.183519\n",
      "min         1.000000       1.000000   -4988.940000\n",
      "25%        11.000000      18.000000    2079.650000\n",
      "50%        22.000000      37.000000    7612.030000\n",
      "75%        33.000000      74.000000   20205.852500\n",
      "max        45.000000      99.000000  693099.360000\n"
     ]
    }
   ],
   "source": [
    "print(train_df.describe())"
   ]
  },
  {
   "cell_type": "markdown",
   "metadata": {},
   "source": [
    "## Feature"
   ]
  },
  {
   "cell_type": "code",
   "execution_count": 7,
   "metadata": {
    "scrolled": false
   },
   "outputs": [
    {
     "name": "stdout",
     "output_type": "stream",
     "text": [
      "<class 'pandas.core.frame.DataFrame'>\n",
      "RangeIndex: 8190 entries, 0 to 8189\n",
      "Data columns (total 12 columns):\n",
      "Store           8190 non-null int64\n",
      "Date            8190 non-null object\n",
      "Temperature     8190 non-null float64\n",
      "Fuel_Price      8190 non-null float64\n",
      "MarkDown1       4032 non-null float64\n",
      "MarkDown2       2921 non-null float64\n",
      "MarkDown3       3613 non-null float64\n",
      "MarkDown4       3464 non-null float64\n",
      "MarkDown5       4050 non-null float64\n",
      "CPI             7605 non-null float64\n",
      "Unemployment    7605 non-null float64\n",
      "IsHoliday       8190 non-null bool\n",
      "dtypes: bool(1), float64(9), int64(1), object(1)\n",
      "memory usage: 711.9+ KB\n",
      "None\n",
      "   Store        Date  Temperature  Fuel_Price  MarkDown1  MarkDown2  \\\n",
      "0      1  2010-02-05        42.31       2.572        NaN        NaN   \n",
      "1      1  2010-02-12        38.51       2.548        NaN        NaN   \n",
      "2      1  2010-02-19        39.93       2.514        NaN        NaN   \n",
      "3      1  2010-02-26        46.63       2.561        NaN        NaN   \n",
      "4      1  2010-03-05        46.50       2.625        NaN        NaN   \n",
      "\n",
      "   MarkDown3  MarkDown4  MarkDown5         CPI  Unemployment  IsHoliday  \n",
      "0        NaN        NaN        NaN  211.096358         8.106      False  \n",
      "1        NaN        NaN        NaN  211.242170         8.106       True  \n",
      "2        NaN        NaN        NaN  211.289143         8.106      False  \n",
      "3        NaN        NaN        NaN  211.319643         8.106      False  \n",
      "4        NaN        NaN        NaN  211.350143         8.106      False  \n"
     ]
    }
   ],
   "source": [
    "print(features.info())\n",
    "print(features.head())"
   ]
  },
  {
   "cell_type": "code",
   "execution_count": 8,
   "metadata": {},
   "outputs": [
    {
     "name": "stdout",
     "output_type": "stream",
     "text": [
      "<class 'pandas.core.frame.DataFrame'>\n",
      "RangeIndex: 8190 entries, 0 to 8189\n",
      "Data columns (total 11 columns):\n",
      "Store           8190 non-null int64\n",
      "Date            8190 non-null datetime64[ns]\n",
      "Temperature     8190 non-null float64\n",
      "Fuel_Price      8190 non-null float64\n",
      "MarkDown1       4032 non-null float64\n",
      "MarkDown2       2921 non-null float64\n",
      "MarkDown3       3613 non-null float64\n",
      "MarkDown4       3464 non-null float64\n",
      "MarkDown5       4050 non-null float64\n",
      "CPI             7605 non-null float64\n",
      "Unemployment    7605 non-null float64\n",
      "dtypes: datetime64[ns](1), float64(9), int64(1)\n",
      "memory usage: 703.9 KB\n",
      "None\n",
      "   Store       Date  Temperature  Fuel_Price  MarkDown1  MarkDown2  MarkDown3  \\\n",
      "0      1 2010-02-05        42.31       2.572        NaN        NaN        NaN   \n",
      "1      1 2010-02-12        38.51       2.548        NaN        NaN        NaN   \n",
      "2      1 2010-02-19        39.93       2.514        NaN        NaN        NaN   \n",
      "3      1 2010-02-26        46.63       2.561        NaN        NaN        NaN   \n",
      "4      1 2010-03-05        46.50       2.625        NaN        NaN        NaN   \n",
      "\n",
      "   MarkDown4  MarkDown5         CPI  Unemployment  \n",
      "0        NaN        NaN  211.096358         8.106  \n",
      "1        NaN        NaN  211.242170         8.106  \n",
      "2        NaN        NaN  211.289143         8.106  \n",
      "3        NaN        NaN  211.319643         8.106  \n",
      "4        NaN        NaN  211.350143         8.106  \n"
     ]
    }
   ],
   "source": [
    "features['Date'] = pd.to_datetime(features['Date'])\n",
    "features = features.drop(columns=['IsHoliday'])\n",
    "print(features.info())\n",
    "print(features.head())"
   ]
  },
  {
   "cell_type": "code",
   "execution_count": 9,
   "metadata": {},
   "outputs": [
    {
     "name": "stdout",
     "output_type": "stream",
     "text": [
      "             Store  Temperature   Fuel_Price      MarkDown1      MarkDown2  \\\n",
      "count  8190.000000  8190.000000  8190.000000    4032.000000    2921.000000   \n",
      "mean     23.000000    59.356198     3.405992    7032.371786    3384.176594   \n",
      "std      12.987966    18.678607     0.431337    9262.747448    8793.583016   \n",
      "min       1.000000    -7.290000     2.472000   -2781.450000    -265.760000   \n",
      "25%      12.000000    45.902500     3.041000    1577.532500      68.880000   \n",
      "50%      23.000000    60.710000     3.513000    4743.580000     364.570000   \n",
      "75%      34.000000    73.880000     3.743000    8923.310000    2153.350000   \n",
      "max      45.000000   101.950000     4.468000  103184.980000  104519.540000   \n",
      "\n",
      "           MarkDown3     MarkDown4      MarkDown5          CPI  Unemployment  \n",
      "count    3613.000000   3464.000000    4050.000000  7605.000000   7605.000000  \n",
      "mean     1760.100180   3292.935886    4132.216422   172.460809      7.826821  \n",
      "std     11276.462208   6792.329861   13086.690278    39.738346      1.877259  \n",
      "min      -179.260000      0.220000    -185.170000   126.064000      3.684000  \n",
      "25%         6.600000    304.687500    1440.827500   132.364839      6.634000  \n",
      "50%        36.260000   1176.425000    2727.135000   182.764003      7.806000  \n",
      "75%       163.150000   3310.007500    4832.555000   213.932412      8.567000  \n",
      "max    149483.310000  67474.850000  771448.100000   228.976456     14.313000  \n"
     ]
    }
   ],
   "source": [
    "print(features.describe())"
   ]
  },
  {
   "cell_type": "code",
   "execution_count": 10,
   "metadata": {},
   "outputs": [
    {
     "name": "stdout",
     "output_type": "stream",
     "text": [
      "<class 'pandas.core.frame.DataFrame'>\n",
      "Int64Index: 421570 entries, 0 to 421569\n",
      "Data columns (total 6 columns):\n",
      "Store           421570 non-null int64\n",
      "Dept            421570 non-null int64\n",
      "Date            421570 non-null datetime64[ns]\n",
      "Weekly_Sales    421570 non-null float64\n",
      "IsHoliday       421570 non-null bool\n",
      "Temperature     421570 non-null float64\n",
      "dtypes: bool(1), datetime64[ns](1), float64(2), int64(2)\n",
      "memory usage: 19.7 MB\n",
      "None\n"
     ]
    }
   ],
   "source": [
    "train_merged = train_df.merge(features[['Store','Date','Temperature']],on=['Store','Date'])\n",
    "\n",
    "# train_df = train_merged\n",
    "print(train_merged.info())"
   ]
  },
  {
   "cell_type": "code",
   "execution_count": 11,
   "metadata": {},
   "outputs": [],
   "source": [
    "train_df['Doty'] = pd.to_datetime(train_df['Date']).dt.dayofyear\n",
    "train_df['Week'] = pd.to_datetime(train_df['Date']).dt.week\n",
    "# train_df['Weekday'] = pd.to_datetime(train_df['Date']).dt.weekday\n",
    "train_df['Quarter'] = pd.to_datetime(train_df['Date']).dt.quarter\n",
    "train_df['Dotm'] = pd.to_datetime(train_df['Date']).dt.day\n",
    "train_df['MonthStart'] = pd.to_datetime(train_df['Date']).dt.is_month_start\n",
    "train_df['MonthEnd'] = pd.to_datetime(train_df['Date']).dt.is_month_end\n",
    "\n",
    "\n",
    "y = train_df['Weekly_Sales'].values\n",
    "X = train_df.drop(columns=['Weekly_Sales','Date']).values\n",
    "label = train_df.drop(columns=['Weekly_Sales','Date']).columns"
   ]
  },
  {
   "cell_type": "code",
   "execution_count": 12,
   "metadata": {},
   "outputs": [],
   "source": [
    "from sklearn.model_selection import train_test_split\n",
    "\n",
    "X_train, X_test, y_train, y_test = train_test_split(X, y, test_size=0.3, random_state=42)\n",
    "test_MAE_weight = [5 if x[3] else 1 for x in X_test]"
   ]
  },
  {
   "cell_type": "markdown",
   "metadata": {},
   "source": [
    "## test data"
   ]
  },
  {
   "cell_type": "code",
   "execution_count": 13,
   "metadata": {},
   "outputs": [
    {
     "name": "stdout",
     "output_type": "stream",
     "text": [
      "[[1 1 False ... 2 False False]\n",
      " [1 1 False ... 9 False False]\n",
      " [1 1 False ... 16 False False]\n",
      " ...\n",
      " [45 98 False ... 12 False False]\n",
      " [45 98 False ... 19 False False]\n",
      " [45 98 False ... 26 False False]]\n"
     ]
    }
   ],
   "source": [
    "test_df = pd.read_csv('test.csv')\n",
    "\n",
    "test_df['Date'] = pd.to_datetime(test_df['Date'])\n",
    "# test_df = test_df.merge(features[['Store','Date','Temperature']],on=['Store','Date'])\n",
    "\n",
    "test_df['Doty'] = pd.to_datetime(test_df['Date']).dt.dayofyear\n",
    "test_df['Week'] = pd.to_datetime(test_df['Date']).dt.week\n",
    "# test_df['Weekday'] = pd.to_datetime(test_df['Date']).dt.weekday\n",
    "test_df['Quarter'] = pd.to_datetime(test_df['Date']).dt.quarter\n",
    "test_df['Dotm'] = pd.to_datetime(test_df['Date']).dt.day\n",
    "test_df['MonthStart'] = pd.to_datetime(test_df['Date']).dt.is_month_start\n",
    "test_df['MonthEnd'] = pd.to_datetime(test_df['Date']).dt.is_month_end\n",
    "\n",
    "x_submission = test_df.drop(columns=['Date']).values\n",
    "print(x_submission)\n",
    "\n",
    "sample_sub = pd.read_csv('sampleSubmission.csv')"
   ]
  },
  {
   "cell_type": "markdown",
   "metadata": {},
   "source": [
    "# Random Forest"
   ]
  },
  {
   "cell_type": "code",
   "execution_count": 14,
   "metadata": {},
   "outputs": [],
   "source": [
    "from sklearn.metrics import mean_absolute_error\n",
    "from sklearn.ensemble import RandomForestRegressor"
   ]
  },
  {
   "cell_type": "code",
   "execution_count": 15,
   "metadata": {},
   "outputs": [
    {
     "data": {
      "text/plain": [
       "RandomForestRegressor(bootstrap=True, criterion='mse', max_depth=None,\n",
       "           max_features='auto', max_leaf_nodes=None,\n",
       "           min_impurity_decrease=0.0, min_impurity_split=None,\n",
       "           min_samples_leaf=1, min_samples_split=2,\n",
       "           min_weight_fraction_leaf=0.0, n_estimators=10, n_jobs=1,\n",
       "           oob_score=False, random_state=42, verbose=0, warm_start=False)"
      ]
     },
     "execution_count": 15,
     "metadata": {},
     "output_type": "execute_result"
    }
   ],
   "source": [
    "random_forest = RandomForestRegressor(random_state=42)\n",
    "random_forest.fit(X_train,y_train)"
   ]
  },
  {
   "cell_type": "code",
   "execution_count": 16,
   "metadata": {},
   "outputs": [
    {
     "name": "stdout",
     "output_type": "stream",
     "text": [
      "1846.1623146650218\n"
     ]
    }
   ],
   "source": [
    "y_predicted = random_forest.predict(X_test)\n",
    "error = mean_absolute_error(y_test,y_predicted, sample_weight=test_MAE_weight)\n",
    "print(error)"
   ]
  },
  {
   "cell_type": "code",
   "execution_count": 17,
   "metadata": {},
   "outputs": [
    {
     "name": "stdout",
     "output_type": "stream",
     "text": [
      "[50932.42  3196.12 10125.03 ... 58317.53   229.    3443.32]\n"
     ]
    }
   ],
   "source": [
    "print(y_test)"
   ]
  },
  {
   "cell_type": "code",
   "execution_count": 18,
   "metadata": {},
   "outputs": [
    {
     "name": "stdout",
     "output_type": "stream",
     "text": [
      "[51536.588  1457.188 11003.264 ... 58167.239   337.569  4757.865]\n"
     ]
    }
   ],
   "source": [
    "print(y_predicted)"
   ]
  },
  {
   "cell_type": "code",
   "execution_count": 19,
   "metadata": {},
   "outputs": [
    {
     "name": "stdout",
     "output_type": "stream",
     "text": [
      "[('Store', 0.36879235090034956), ('Dept', 0.5600513813590993), ('IsHoliday', 0.0012308193197409505), ('Doty', 0.03625557709095216), ('Week', 0.0206637367668751), ('Quarter', 0.00041807723964374787), ('Dotm', 0.012216304942192736), ('MonthStart', 0.00011590923772221422), ('MonthEnd', 0.0002558431434241166)]\n"
     ]
    },
    {
     "data": {
      "image/png": "[encoded data removed]",
      "text/plain": [
       "<Figure size 432x288 with 1 Axes>"
      ]
     },
     "metadata": {},
     "output_type": "display_data"
    }
   ],
   "source": [
    "print(list(zip(label,random_forest.feature_importances_)))\n",
    "plt.bar(label,random_forest.feature_importances_,random_forest.feature_importances_)\n",
    "plt.show()"
   ]
  },
  {
   "cell_type": "markdown",
   "metadata": {},
   "source": [
    "## Tuning"
   ]
  },
  {
   "cell_type": "code",
   "execution_count": null,
   "metadata": {},
   "outputs": [],
   "source": [
    "# max_leaf = [i for i in range(5000,125000,5000)]\n",
    "# leaf_error = []\n",
    "# for i in max_leaf:\n",
    "#     random_forest = RandomForestRegressor(random_state=42,max_leaf_nodes=i)\n",
    "#     random_forest.fit(X_train,y_train)\n",
    "#     y_predicted = random_forest.predict(X_test)\n",
    "#     error = mean_absolute_error(y_test,y_predicted, sample_weight=test_MAE_weight)\n",
    "#     leaf_error.append(error)\n",
    "#     print(i, error)"
   ]
  },
  {
   "cell_type": "code",
   "execution_count": null,
   "metadata": {},
   "outputs": [],
   "source": [
    "plt.plot(max_leaf,leaf_error)\n",
    "plt.ylabel('mean absolute error')\n",
    "plt.xlabel('max leaf')\n",
    "plt.show()"
   ]
  },
  {
   "cell_type": "code",
   "execution_count": 20,
   "metadata": {},
   "outputs": [],
   "source": [
    "# max_features = [i for i in range(2,11)]\n",
    "# leaf_error = []\n",
    "# for i in max_features:\n",
    "#     random_forest = RandomForestRegressor(random_state=42,max_features=i)\n",
    "#     random_forest.fit(X_train,y_train)\n",
    "#     y_predicted = random_forest.predict(X_test)\n",
    "#     error = mean_absolute_error(y_test,y_predicted, sample_weight=test_MAE_weight)\n",
    "#     leaf_error.append(error)\n",
    "#     print(i, error)"
   ]
  },
  {
   "cell_type": "code",
   "execution_count": 21,
   "metadata": {},
   "outputs": [],
   "source": [
    "# plt.plot(max_features,leaf_error)\n",
    "# plt.ylabel('mean absolute error')\n",
    "# plt.xlabel('max_features')\n",
    "plt.show()"
   ]
  },
  {
   "cell_type": "markdown",
   "metadata": {},
   "source": [
    "# Submission"
   ]
  },
  {
   "cell_type": "code",
   "execution_count": 22,
   "metadata": {},
   "outputs": [],
   "source": [
    "# random_forest = RandomForestRegressor(random_state=42)\n",
    "# random_forest.fit(X_train,y_train)\n",
    "y = random_forest.predict(x_submission)\n",
    "sample_sub['Weekly_Sales'] = y\n",
    "sample_sub.to_csv('forest_submission.csv',columns=['Id','Weekly_Sales'],index=False)"
   ]
  },
  {
   "cell_type": "markdown",
   "metadata": {},
   "source": [
    "__Raw Data__: 6029.02252 __/__ 5664.89475 <br/>\n",
    "__Use days of the year__: 3476.88503 __/__ 3369.14829<br/>\n",
    "__Max Leaf Node = 30k:__ 3512.95249 __/__ 3417.74279<br/>\n",
    "__Add date value:__ 3432.52948 __/__ 3366.84838"
   ]
  },
  {
   "cell_type": "code",
   "execution_count": null,
   "metadata": {},
   "outputs": [],
   "source": []
  }
 ],
 "metadata": {
  "kernelspec": {
   "display_name": "Python 3",
   "language": "python",
   "name": "python3"
  },
  "language_info": {
   "codemirror_mode": {
    "name": "ipython",
    "version": 3
   },
   "file_extension": ".py",
   "mimetype": "text/x-python",
   "name": "python",
   "nbconvert_exporter": "python",
   "pygments_lexer": "ipython3",
   "version": "3.6.5"
  }
 },
 "nbformat": 4,
 "nbformat_minor": 2
}
