{
 "cells": [
  {
   "cell_type": "code",
   "execution_count": 1,
   "metadata": {},
   "outputs": [],
   "source": [
    "%matplotlib inline\n",
    "\n",
    "import numpy as np\n",
    "import pandas as pd\n",
    "import matplotlib.pyplot as plt\n"
   ]
  },
  {
   "cell_type": "markdown",
   "metadata": {},
   "source": [
    "# Preprocess"
   ]
  },
  {
   "cell_type": "code",
   "execution_count": 2,
   "metadata": {},
   "outputs": [],
   "source": [
    "features = pd.read_csv('features.csv')\n",
    "train_df = pd.read_csv('train.csv')"
   ]
  },
  {
   "cell_type": "code",
   "execution_count": 3,
   "metadata": {},
   "outputs": [
    {
     "name": "stdout",
     "output_type": "stream",
     "text": [
      "<class 'pandas.core.frame.DataFrame'>\n",
      "RangeIndex: 421570 entries, 0 to 421569\n",
      "Data columns (total 5 columns):\n",
      "Store           421570 non-null int64\n",
      "Dept            421570 non-null int64\n",
      "Date            421570 non-null object\n",
      "Weekly_Sales    421570 non-null float64\n",
      "IsHoliday       421570 non-null bool\n",
      "dtypes: bool(1), float64(1), int64(2), object(1)\n",
      "memory usage: 13.3+ MB\n",
      "None\n",
      "   Store  Dept        Date  Weekly_Sales  IsHoliday\n",
      "0      1     1  2010-02-05      24924.50      False\n",
      "1      1     1  2010-02-12      46039.49       True\n",
      "2      1     1  2010-02-19      41595.55      False\n",
      "3      1     1  2010-02-26      19403.54      False\n",
      "4      1     1  2010-03-05      21827.90      False\n"
     ]
    }
   ],
   "source": [
    "print(train_df.info())\n",
    "print(train_df.head())"
   ]
  },
  {
   "cell_type": "code",
   "execution_count": 4,
   "metadata": {},
   "outputs": [],
   "source": [
    "train_df['Date'] = pd.to_datetime(train_df['Date'])"
   ]
  },
  {
   "cell_type": "code",
   "execution_count": 5,
   "metadata": {},
   "outputs": [
    {
     "name": "stdout",
     "output_type": "stream",
     "text": [
      "<class 'pandas.core.frame.DataFrame'>\n",
      "RangeIndex: 421570 entries, 0 to 421569\n",
      "Data columns (total 5 columns):\n",
      "Store           421570 non-null int64\n",
      "Dept            421570 non-null int64\n",
      "Date            421570 non-null datetime64[ns]\n",
      "Weekly_Sales    421570 non-null float64\n",
      "IsHoliday       421570 non-null bool\n",
      "dtypes: bool(1), datetime64[ns](1), float64(1), int64(2)\n",
      "memory usage: 13.3 MB\n",
      "None\n",
      "   Store  Dept       Date  Weekly_Sales  IsHoliday\n",
      "0      1     1 2010-02-05      24924.50      False\n",
      "1      1     1 2010-02-12      46039.49       True\n",
      "2      1     1 2010-02-19      41595.55      False\n",
      "3      1     1 2010-02-26      19403.54      False\n",
      "4      1     1 2010-03-05      21827.90      False\n"
     ]
    }
   ],
   "source": [
    "print(train_df.info())\n",
    "print(train_df.head())"
   ]
  },
  {
   "cell_type": "code",
   "execution_count": 6,
   "metadata": {},
   "outputs": [
    {
     "name": "stdout",
     "output_type": "stream",
     "text": [
      "               Store           Dept   Weekly_Sales\n",
      "count  421570.000000  421570.000000  421570.000000\n",
      "mean       22.200546      44.260317   15981.258123\n",
      "std        12.785297      30.492054   22711.183519\n",
      "min         1.000000       1.000000   -4988.940000\n",
      "25%        11.000000      18.000000    2079.650000\n",
      "50%        22.000000      37.000000    7612.030000\n",
      "75%        33.000000      74.000000   20205.852500\n",
      "max        45.000000      99.000000  693099.360000\n",
      "        Store  Dept       Date  Weekly_Sales  IsHoliday\n",
      "7741        1    72 2011-11-25     203670.47       True\n",
      "11148       2     7 2010-12-24     264837.42      False\n",
      "11200       2     7 2011-12-23     214118.51      False\n",
      "17896       2    72 2010-11-26     285353.53       True\n",
      "17900       2    72 2010-12-24     223396.79      False\n",
      "17948       2    72 2011-11-25     263558.03       True\n",
      "19480       2    92 2010-11-19     205829.42      False\n",
      "19481       2    92 2010-11-26     219880.49       True\n",
      "19484       2    92 2010-12-17     201863.27      False\n",
      "19485       2    92 2010-12-24     236468.65      False\n",
      "19532       2    92 2011-11-18     204812.37      False\n",
      "19533       2    92 2011-11-25     238066.17       True\n",
      "19536       2    92 2011-12-16     204934.97      False\n",
      "19537       2    92 2011-12-23     257375.39      False\n",
      "30422       4     7 2010-12-24     293835.78      False\n",
      "30474       4     7 2011-12-23     318422.01      False\n",
      "37201       4    72 2010-11-26     381072.11       True\n",
      "37204       4    72 2010-12-17     216877.34      False\n",
      "37205       4    72 2010-12-24     299060.25      False\n",
      "37253       4    72 2011-11-25     385051.04       True\n",
      "37257       4    72 2011-12-23     271320.74      False\n",
      "38840       4    92 2011-11-18     202030.01      False\n",
      "38841       4    92 2011-11-25     231334.61       True\n",
      "38845       4    92 2011-12-23     239759.31      False\n",
      "49693       6     7 2010-12-24     207052.33      False\n",
      "56417       6    72 2010-11-26     342578.65       True\n",
      "56421       6    72 2010-12-24     204271.34      False\n",
      "56469       6    72 2011-11-25     326866.60       True\n",
      "66317       7    72 2011-11-25     222921.09       True\n",
      "88142      10     5 2010-12-24     259955.82      False\n",
      "...       ...   ...        ...           ...        ...\n",
      "224411     23    72 2010-11-26     369830.98       True\n",
      "224415     23    72 2010-12-24     225156.09      False\n",
      "224463     23    72 2011-11-25     347680.08       True\n",
      "224467     23    72 2011-12-23     205813.32      False\n",
      "234512     24    72 2010-11-26     233371.62       True\n",
      "234564     24    72 2011-11-25     206506.40       True\n",
      "257659     27     7 2010-12-24     230033.85      False\n",
      "257711     27     7 2011-12-23     202269.67      False\n",
      "264390     27    72 2010-11-26     420586.57       True\n",
      "264394     27    72 2010-12-24     220769.05      False\n",
      "264442     27    72 2011-11-25     368484.19       True\n",
      "267884     28     7 2010-12-24     234363.43      False\n",
      "274509     28    72 2010-11-26     355356.39       True\n",
      "274561     28    72 2011-11-25     351763.71       True\n",
      "284227     29    72 2010-11-26     266480.63       True\n",
      "284279     29    72 2011-11-25     254641.96       True\n",
      "301242     31    72 2010-11-26     261022.50       True\n",
      "301294     31    72 2011-11-25     274558.07       True\n",
      "311464     32    72 2010-11-26     217015.56       True\n",
      "311516     32    72 2011-11-25     220379.93       True\n",
      "337961     35    72 2010-11-26     627962.93       True\n",
      "337965     35    72 2010-12-24     229483.77      False\n",
      "338013     35    72 2011-11-25     649770.18       True\n",
      "361981     39     7 2010-12-24     226252.44      False\n",
      "362033     39     7 2011-12-23     225134.39      False\n",
      "368375     39    72 2010-11-26     339700.62       True\n",
      "368427     39    72 2011-11-25     351553.98       True\n",
      "388475     41    72 2010-11-26     290809.17       True\n",
      "388527     41    72 2011-11-25     271392.45       True\n",
      "419193     45    72 2010-11-26     240758.86       True\n",
      "\n",
      "[163 rows x 5 columns]\n"
     ]
    }
   ],
   "source": [
    "print(train_df.describe())\n",
    "\n",
    "print(train_df[train_df['Weekly_Sales']>200000])"
   ]
  },
  {
   "cell_type": "markdown",
   "metadata": {},
   "source": [
    "## Feature"
   ]
  },
  {
   "cell_type": "code",
   "execution_count": 7,
   "metadata": {
    "scrolled": false
   },
   "outputs": [
    {
     "name": "stdout",
     "output_type": "stream",
     "text": [
      "<class 'pandas.core.frame.DataFrame'>\n",
      "RangeIndex: 8190 entries, 0 to 8189\n",
      "Data columns (total 12 columns):\n",
      "Store           8190 non-null int64\n",
      "Date            8190 non-null object\n",
      "Temperature     8190 non-null float64\n",
      "Fuel_Price      8190 non-null float64\n",
      "MarkDown1       4032 non-null float64\n",
      "MarkDown2       2921 non-null float64\n",
      "MarkDown3       3613 non-null float64\n",
      "MarkDown4       3464 non-null float64\n",
      "MarkDown5       4050 non-null float64\n",
      "CPI             7605 non-null float64\n",
      "Unemployment    7605 non-null float64\n",
      "IsHoliday       8190 non-null bool\n",
      "dtypes: bool(1), float64(9), int64(1), object(1)\n",
      "memory usage: 711.9+ KB\n",
      "None\n",
      "   Store        Date  Temperature  Fuel_Price  MarkDown1  MarkDown2  \\\n",
      "0      1  2010-02-05        42.31       2.572        NaN        NaN   \n",
      "1      1  2010-02-12        38.51       2.548        NaN        NaN   \n",
      "2      1  2010-02-19        39.93       2.514        NaN        NaN   \n",
      "3      1  2010-02-26        46.63       2.561        NaN        NaN   \n",
      "4      1  2010-03-05        46.50       2.625        NaN        NaN   \n",
      "\n",
      "   MarkDown3  MarkDown4  MarkDown5         CPI  Unemployment  IsHoliday  \n",
      "0        NaN        NaN        NaN  211.096358         8.106      False  \n",
      "1        NaN        NaN        NaN  211.242170         8.106       True  \n",
      "2        NaN        NaN        NaN  211.289143         8.106      False  \n",
      "3        NaN        NaN        NaN  211.319643         8.106      False  \n",
      "4        NaN        NaN        NaN  211.350143         8.106      False  \n"
     ]
    }
   ],
   "source": [
    "print(features.info())\n",
    "print(features.head())"
   ]
  },
  {
   "cell_type": "code",
   "execution_count": 8,
   "metadata": {},
   "outputs": [
    {
     "name": "stdout",
     "output_type": "stream",
     "text": [
      "<class 'pandas.core.frame.DataFrame'>\n",
      "RangeIndex: 8190 entries, 0 to 8189\n",
      "Data columns (total 12 columns):\n",
      "Store           8190 non-null int64\n",
      "Date            8190 non-null datetime64[ns]\n",
      "Temperature     8190 non-null float64\n",
      "Fuel_Price      8190 non-null float64\n",
      "MarkDown1       4032 non-null float64\n",
      "MarkDown2       2921 non-null float64\n",
      "MarkDown3       3613 non-null float64\n",
      "MarkDown4       3464 non-null float64\n",
      "MarkDown5       4050 non-null float64\n",
      "CPI             7605 non-null float64\n",
      "Unemployment    7605 non-null float64\n",
      "IsHoliday       8190 non-null bool\n",
      "dtypes: bool(1), datetime64[ns](1), float64(9), int64(1)\n",
      "memory usage: 711.9 KB\n",
      "None\n",
      "   Store       Date  Temperature  Fuel_Price  MarkDown1  MarkDown2  MarkDown3  \\\n",
      "0      1 2010-02-05        42.31       2.572        NaN        NaN        NaN   \n",
      "1      1 2010-02-12        38.51       2.548        NaN        NaN        NaN   \n",
      "2      1 2010-02-19        39.93       2.514        NaN        NaN        NaN   \n",
      "3      1 2010-02-26        46.63       2.561        NaN        NaN        NaN   \n",
      "4      1 2010-03-05        46.50       2.625        NaN        NaN        NaN   \n",
      "\n",
      "   MarkDown4  MarkDown5         CPI  Unemployment  IsHoliday  \n",
      "0        NaN        NaN  211.096358         8.106      False  \n",
      "1        NaN        NaN  211.242170         8.106       True  \n",
      "2        NaN        NaN  211.289143         8.106      False  \n",
      "3        NaN        NaN  211.319643         8.106      False  \n",
      "4        NaN        NaN  211.350143         8.106      False  \n"
     ]
    }
   ],
   "source": [
    "features['Date'] = pd.to_datetime(features['Date'])\n",
    "print(features.info())\n",
    "print(features.head())"
   ]
  },
  {
   "cell_type": "code",
   "execution_count": 9,
   "metadata": {},
   "outputs": [
    {
     "name": "stdout",
     "output_type": "stream",
     "text": [
      "             Store  Temperature   Fuel_Price      MarkDown1      MarkDown2  \\\n",
      "count  8190.000000  8190.000000  8190.000000    4032.000000    2921.000000   \n",
      "mean     23.000000    59.356198     3.405992    7032.371786    3384.176594   \n",
      "std      12.987966    18.678607     0.431337    9262.747448    8793.583016   \n",
      "min       1.000000    -7.290000     2.472000   -2781.450000    -265.760000   \n",
      "25%      12.000000    45.902500     3.041000    1577.532500      68.880000   \n",
      "50%      23.000000    60.710000     3.513000    4743.580000     364.570000   \n",
      "75%      34.000000    73.880000     3.743000    8923.310000    2153.350000   \n",
      "max      45.000000   101.950000     4.468000  103184.980000  104519.540000   \n",
      "\n",
      "           MarkDown3     MarkDown4      MarkDown5          CPI  Unemployment  \n",
      "count    3613.000000   3464.000000    4050.000000  7605.000000   7605.000000  \n",
      "mean     1760.100180   3292.935886    4132.216422   172.460809      7.826821  \n",
      "std     11276.462208   6792.329861   13086.690278    39.738346      1.877259  \n",
      "min      -179.260000      0.220000    -185.170000   126.064000      3.684000  \n",
      "25%         6.600000    304.687500    1440.827500   132.364839      6.634000  \n",
      "50%        36.260000   1176.425000    2727.135000   182.764003      7.806000  \n",
      "75%       163.150000   3310.007500    4832.555000   213.932412      8.567000  \n",
      "max    149483.310000  67474.850000  771448.100000   228.976456     14.313000  \n"
     ]
    }
   ],
   "source": [
    "print(features.describe())"
   ]
  },
  {
   "cell_type": "code",
   "execution_count": 10,
   "metadata": {},
   "outputs": [
    {
     "name": "stdout",
     "output_type": "stream",
     "text": [
      "<class 'pandas.core.frame.DataFrame'>\n",
      "Int64Index: 421570 entries, 0 to 421569\n",
      "Data columns (total 6 columns):\n",
      "Store           421570 non-null int64\n",
      "Dept            421570 non-null int64\n",
      "Date            421570 non-null datetime64[ns]\n",
      "Weekly_Sales    421570 non-null float64\n",
      "IsHoliday       421570 non-null bool\n",
      "Temperature     421570 non-null float64\n",
      "dtypes: bool(1), datetime64[ns](1), float64(2), int64(2)\n",
      "memory usage: 19.7 MB\n",
      "None\n"
     ]
    }
   ],
   "source": [
    "train_merged = train_df.merge(features[['Store','Date','Temperature']],on=['Store','Date'])\n",
    "\n",
    "# train_df = train_merged\n",
    "print(train_merged.info())"
   ]
  },
  {
   "cell_type": "markdown",
   "metadata": {},
   "source": [
    "## transform Store and Dept into category type"
   ]
  },
  {
   "cell_type": "code",
   "execution_count": 11,
   "metadata": {},
   "outputs": [],
   "source": [
    "train_df_store = train_df['Store'].astype('category')\n",
    "train_df_dept = train_df['Dept'].astype('category')\n",
    "\n",
    "train_df_store = pd.get_dummies(train_df_store,prefix='Store').astype('bool')\n",
    "train_df_dept = pd.get_dummies(train_df_dept,prefix='Dept').astype('bool')\n",
    "\n",
    "train_df_cat = pd.concat([train_df_store,train_df_dept],axis=1)"
   ]
  },
  {
   "cell_type": "code",
   "execution_count": 12,
   "metadata": {},
   "outputs": [],
   "source": [
    "train_df['Doty'] = pd.to_datetime(train_df['Date']).dt.dayofyear\n",
    "train_df['Week'] = pd.to_datetime(train_df['Date']).dt.week\n",
    "train_df['Month'] = pd.to_datetime(train_df['Date']).dt.month\n",
    "train_df['Quarter'] = pd.to_datetime(train_df['Date']).dt.quarter\n",
    "train_df['Dotm'] = pd.to_datetime(train_df['Date']).dt.day\n",
    "train_df['MonthStart'] = pd.to_datetime(train_df['Date']).dt.is_month_start\n",
    "train_df['MonthEnd'] = pd.to_datetime(train_df['Date']).dt.is_month_end\n",
    "train_df['IsBeforeXMms'] = np.logical_and(train_df['Dotm'].apply(lambda x: x in [24]), train_df['Month'] == 12)\n",
    "# train_df['IsXMms'] = train_df['Week'].apply(lambda x: x == 51)\n",
    "train_df['IsThanksGiving'] = train_df['Week'].apply(lambda x: x == 47)\n",
    "train_df = pd.concat([train_df,train_df_cat],axis=1)\n",
    "\n",
    "y = train_df['Weekly_Sales'].values\n",
    "X = train_df.drop(columns=['Weekly_Sales','Date','Store','Dept']).values\n",
    "label = train_df.drop(columns=['Weekly_Sales','Date','Store','Dept']).columns\n"
   ]
  },
  {
   "cell_type": "code",
   "execution_count": 13,
   "metadata": {},
   "outputs": [
    {
     "name": "stdout",
     "output_type": "stream",
     "text": [
      "(295099, 136)\n"
     ]
    }
   ],
   "source": [
    "from sklearn.model_selection import train_test_split\n",
    "\n",
    "X_train, X_test, y_train, y_test = train_test_split(X, y, test_size=0.3, random_state=42)\n",
    "test_MAE_weight = [5 if x[0] else 1 for x in X_test]\n",
    "print(X_train.shape)"
   ]
  },
  {
   "cell_type": "markdown",
   "metadata": {},
   "source": [
    "## test data"
   ]
  },
  {
   "cell_type": "code",
   "execution_count": 14,
   "metadata": {
    "collapsed": true
   },
   "outputs": [
    {
     "name": "stdout",
     "output_type": "stream",
     "text": [
      "(115064, 136)\n"
     ]
    }
   ],
   "source": [
    "test_df = pd.read_csv('test.csv')\n",
    "\n",
    "test_df['Date'] = pd.to_datetime(test_df['Date'])\n",
    "# test_df = test_df.merge(features[['Store','Date','Temperature']],on=['Store','Date'])\n",
    "\n",
    "test_df_store = test_df['Store'].astype('category')\n",
    "test_df_dept = test_df['Dept'].astype('category')\n",
    "test_df_store = pd.get_dummies(test_df_store,prefix='Store').astype('bool')\n",
    "test_df_dept = pd.get_dummies(test_df_dept,prefix='Dept').astype('bool')\n",
    "test_df_cat = pd.concat([test_df_store,test_df_dept],axis=1)\n",
    "\n",
    "test_df['Doty'] = pd.to_datetime(test_df['Date']).dt.dayofyear\n",
    "test_df['Week'] = pd.to_datetime(test_df['Date']).dt.week\n",
    "test_df['Month'] = pd.to_datetime(test_df['Date']).dt.month\n",
    "test_df['Quarter'] = pd.to_datetime(test_df['Date']).dt.quarter\n",
    "test_df['Dotm'] = pd.to_datetime(test_df['Date']).dt.day\n",
    "test_df['MonthStart'] = pd.to_datetime(test_df['Date']).dt.is_month_start\n",
    "test_df['MonthEnd'] = pd.to_datetime(test_df['Date']).dt.is_month_end\n",
    "test_df['IsBeforeXMms'] = np.logical_and(test_df['Dotm'].apply(lambda x: x in [24]), test_df['Month'] == 12)\n",
    "# test_df['IsXMas'] = test_df['Week'].apply(lambda x: x == 51)\n",
    "test_df['IsThanksGiving'] = test_df['Week'].apply(lambda x: x == 47)\n",
    "\n",
    "test_df = pd.concat([test_df,test_df_cat],axis=1)\n",
    "\n",
    "x_submission = test_df.drop(columns=['Date','Store','Dept']).values\n",
    "# print(x_submission)\n",
    "print(x_submission.shape)\n",
    "\n",
    "sample_sub = pd.read_csv('sampleSubmission.csv')"
   ]
  },
  {
   "cell_type": "markdown",
   "metadata": {},
   "source": [
    "# Random Forest"
   ]
  },
  {
   "cell_type": "code",
   "execution_count": 15,
   "metadata": {},
   "outputs": [],
   "source": [
    "from sklearn.metrics import mean_absolute_error\n",
    "from sklearn.ensemble import RandomForestRegressor"
   ]
  },
  {
   "cell_type": "code",
   "execution_count": 16,
   "metadata": {},
   "outputs": [
    {
     "data": {
      "text/plain": [
       "RandomForestRegressor(bootstrap=True, criterion='mse', max_depth=None,\n",
       "           max_features='auto', max_leaf_nodes=30000,\n",
       "           min_impurity_decrease=0.0, min_impurity_split=None,\n",
       "           min_samples_leaf=1, min_samples_split=2,\n",
       "           min_weight_fraction_leaf=0.0, n_estimators=10, n_jobs=-1,\n",
       "           oob_score=False, random_state=42, verbose=0, warm_start=False)"
      ]
     },
     "execution_count": 16,
     "metadata": {},
     "output_type": "execute_result"
    }
   ],
   "source": [
    "# random_forest = RandomForestRegressor(random_state=42,max_leaf_nodes=30000,n_jobs=-1)\n",
    "# random_forest.fit(X_train,y_train)"
   ]
  },
  {
   "cell_type": "code",
   "execution_count": 17,
   "metadata": {},
   "outputs": [
    {
     "name": "stdout",
     "output_type": "stream",
     "text": [
      "1989.663403157182\n"
     ]
    }
   ],
   "source": [
    "# y_predicted = random_forest.predict(X_test)\n",
    "# error = mean_absolute_error(y_test,y_predicted, sample_weight=test_MAE_weight)\n",
    "# print(error)"
   ]
  },
  {
   "cell_type": "code",
   "execution_count": 18,
   "metadata": {
    "scrolled": true
   },
   "outputs": [
    {
     "name": "stdout",
     "output_type": "stream",
     "text": [
      "[50932.42  3196.12 10125.03 ... 58317.53   229.    3443.32]\n"
     ]
    }
   ],
   "source": [
    "# print(y_test)"
   ]
  },
  {
   "cell_type": "code",
   "execution_count": 19,
   "metadata": {},
   "outputs": [
    {
     "name": "stdout",
     "output_type": "stream",
     "text": [
      "[51339.55966667  1862.75278    10671.99335735 ... 57916.42796667\n",
      "   770.11206733  4369.05262968]\n"
     ]
    }
   ],
   "source": [
    "# print(y_predicted)"
   ]
  },
  {
   "cell_type": "code",
   "execution_count": 20,
   "metadata": {},
   "outputs": [
    {
     "name": "stdout",
     "output_type": "stream",
     "text": [
      "[ 407.13966667 1333.36722     546.96335735 ...  401.10203333  541.11206733\n",
      "  925.73262968]\n"
     ]
    },
    {
     "data": {
      "text/plain": [
       "[]"
      ]
     },
     "execution_count": 20,
     "metadata": {},
     "output_type": "execute_result"
    },
    {
     "data": {
      "image/png": "[encoded data removed]",
      "text/plain": [
       "<Figure size 432x288 with 1 Axes>"
      ]
     },
     "metadata": {},
     "output_type": "display_data"
    }
   ],
   "source": [
    "# y_diff = np.abs(y_test-y_predicted)\n",
    "# print(y_diff)\n",
    "# plt.scatter(y_predicted,y_diff)\n",
    "# plt.plot()"
   ]
  },
  {
   "cell_type": "code",
   "execution_count": null,
   "metadata": {},
   "outputs": [],
   "source": []
  },
  {
   "cell_type": "code",
   "execution_count": 21,
   "metadata": {},
   "outputs": [
    {
     "name": "stdout",
     "output_type": "stream",
     "text": [
      "[('IsHoliday', 0.0007808389094940201), ('Doty', 0.02668991799383525), ('Week', 0.014244659210541947), ('Month', 0.0019910485187923715), ('Quarter', 0.00045024500032043427), ('Dotm', 0.009762725276932685), ('MonthStart', 0.00011374596619277617), ('MonthEnd', 0.0002394795968342465), ('IsBeforeXMms', 0.0029257020958943286), ('IsThanksGiving', 0.015389039886248004), ('Store_1', 0.014990324835656293), ('Store_2', 0.02411116957426291), ('Store_3', 0.005479080534854266), ('Store_4', 0.028491698043498208), ('Store_5', 0.004523397466615289), ('Store_6', 0.010319305705288367), ('Store_7', 0.0015774903414373224), ('Store_8', 0.0024342285180405498), ('Store_9', 0.0018327322683231542), ('Store_10', 0.02715656910644903), ('Store_11', 0.006256791774847871), ('Store_12', 0.0035589559590484703), ('Store_13', 0.02644726161121664), ('Store_14', 0.029812328558327734), ('Store_15', 0.001040346885296604), ('Store_16', 0.0014411911860540447), ('Store_17', 0.001998274042341245), ('Store_18', 0.00305961738298868), ('Store_19', 0.00944626495753582), ('Store_20', 0.029145791386671976), ('Store_21', 0.0016010625717369936), ('Store_22', 0.002456473818497101), ('Store_23', 0.007231450811250105), ('Store_24', 0.00858278022365901), ('Store_25', 0.0007448052708547875), ('Store_26', 0.00534849510250753), ('Store_27', 0.018910905496408587), ('Store_28', 0.007845643077918983), ('Store_29', 0.0010670974341344226), ('Store_30', 0.0056952315954010395), ('Store_31', 0.012305542099180156), ('Store_32', 0.006215609305777466), ('Store_33', 0.006212980921964305), ('Store_34', 0.0030887647857030924), ('Store_35', 0.0036097007101158277), ('Store_36', 0.005783427239729504), ('Store_37', 0.005470588960040027), ('Store_38', 0.006102218978797214), ('Store_39', 0.010815995085361354), ('Store_40', 0.004646007070713719), ('Store_41', 0.0077542654331576935), ('Store_42', 0.006615074432364036), ('Store_43', 0.008309319846008228), ('Store_44', 0.005451563484881125), ('Store_45', 0.0008886754782494642), ('Dept_1', 0.004039630906661358), ('Dept_2', 0.031078793796808796), ('Dept_3', 0.0014548207262384343), ('Dept_4', 0.008317127068041393), ('Dept_5', 0.005024513937075872), ('Dept_6', 0.0001686139372147275), ('Dept_7', 0.006404297210172054), ('Dept_8', 0.01213105008801119), ('Dept_9', 0.0044661581919624846), ('Dept_10', 0.0037435780229361964), ('Dept_11', 0.002052231056621533), ('Dept_12', 9.220594369247687e-05), ('Dept_13', 0.01207728183840516), ('Dept_14', 0.0021158165723335403), ('Dept_16', 0.002013134360319753), ('Dept_17', 0.0010140715068797052), ('Dept_18', 0.0010658888137989775), ('Dept_19', 1.8240335739319255e-05), ('Dept_20', 0.0001768971983690379), ('Dept_21', 0.0001508844753065696), ('Dept_22', 0.001012884030850423), ('Dept_23', 0.005976256554347562), ('Dept_24', 0.00029882160901932337), ('Dept_25', 0.0007379317651750635), ('Dept_26', 0.00042937606514931246), ('Dept_27', 9.637552697738414e-06), ('Dept_28', 0.0001824446619560314), ('Dept_29', 0.00019937964911295137), ('Dept_30', 0.00010488298970745395), ('Dept_31', 2.3169822898723126e-05), ('Dept_32', 0.0004367324949027077), ('Dept_33', 0.00031422296981518775), ('Dept_34', 0.0020924194363260836), ('Dept_35', 4.309017782680136e-05), ('Dept_36', 1.5185473157593592e-05), ('Dept_37', 2.0558627052643447e-05), ('Dept_38', 0.0670289740869684), ('Dept_39', 2.223958914064043e-07), ('Dept_40', 0.03198388901566668), ('Dept_41', 5.568857435176019e-05), ('Dept_42', 0.000155047197799667), ('Dept_43', 1.2347332737756256e-07), ('Dept_44', 0.00011688110342456632), ('Dept_45', 3.973644164069401e-05), ('Dept_46', 0.004451416556763807), ('Dept_47', 9.70551763518649e-06), ('Dept_48', 8.40759210749674e-06), ('Dept_49', 0.00044048067746637834), ('Dept_50', 1.3622285268619825e-05), ('Dept_51', 2.181348940516472e-05), ('Dept_52', 1.6039143000130204e-05), ('Dept_54', 0.00017630352321672016), ('Dept_55', 0.0010066998649005498), ('Dept_56', 6.834394031535028e-05), ('Dept_58', 0.00018241507735964225), ('Dept_59', 0.00018776752653364444), ('Dept_60', 0.00018190746057324974), ('Dept_65', 0.0010799562825610045), ('Dept_67', 0.0003980964405876257), ('Dept_71', 0.00018288130481422093), ('Dept_72', 0.03847537294351237), ('Dept_74', 0.002012542201275283), ('Dept_77', 1.8201057155795088e-06), ('Dept_78', 3.0113191547217658e-06), ('Dept_79', 0.005277161518180526), ('Dept_80', 0.001481753567240937), ('Dept_81', 0.0021723073218468955), ('Dept_82', 0.002150162598148376), ('Dept_83', 5.7906517890729126e-05), ('Dept_85', 1.844956186795828e-05), ('Dept_87', 0.0018670044611677448), ('Dept_90', 0.03239731251529448), ('Dept_91', 0.015169784568992425), ('Dept_92', 0.10463227175118177), ('Dept_93', 0.008728401683605431), ('Dept_94', 0.013723646646640376), ('Dept_95', 0.09167917422434933), ('Dept_96', 0.0020303780250774664), ('Dept_97', 0.001995787402670189), ('Dept_98', 0.00034283549924210083), ('Dept_99', 1.0364900529497029e-05)]\n"
     ]
    },
    {
     "data": {
      "image/png": "[encoded data removed]",
      "text/plain": [
       "<Figure size 432x288 with 1 Axes>"
      ]
     },
     "metadata": {},
     "output_type": "display_data"
    }
   ],
   "source": [
    "# print(list(zip(label,random_forest.feature_importances_)))\n",
    "# plt.bar(label,random_forest.feature_importances_,random_forest.feature_importances_)\n",
    "# plt.show()"
   ]
  },
  {
   "cell_type": "markdown",
   "metadata": {},
   "source": [
    "## Tuning"
   ]
  },
  {
   "cell_type": "code",
   "execution_count": 27,
   "metadata": {},
   "outputs": [
    {
     "ename": "KeyboardInterrupt",
     "evalue": "",
     "output_type": "error",
     "traceback": [
      "\u001b[0;31m---------------------------------------------------------------------------\u001b[0m",
      "\u001b[0;31mKeyboardInterrupt\u001b[0m                         Traceback (most recent call last)",
      "\u001b[0;32m<ipython-input-27-6dc40c379911>\u001b[0m in \u001b[0;36m<module>\u001b[0;34m()\u001b[0m\n\u001b[1;32m      3\u001b[0m \u001b[0;32mfor\u001b[0m \u001b[0mi\u001b[0m \u001b[0;32min\u001b[0m \u001b[0mmax_leaf\u001b[0m\u001b[0;34m:\u001b[0m\u001b[0;34m\u001b[0m\u001b[0m\n\u001b[1;32m      4\u001b[0m     \u001b[0mrandom_forest\u001b[0m \u001b[0;34m=\u001b[0m \u001b[0mRandomForestRegressor\u001b[0m\u001b[0;34m(\u001b[0m\u001b[0mrandom_state\u001b[0m\u001b[0;34m=\u001b[0m\u001b[0;36m42\u001b[0m\u001b[0;34m,\u001b[0m\u001b[0mmax_leaf_nodes\u001b[0m\u001b[0;34m=\u001b[0m\u001b[0mi\u001b[0m\u001b[0;34m,\u001b[0m\u001b[0mn_jobs\u001b[0m\u001b[0;34m=\u001b[0m\u001b[0;34m-\u001b[0m\u001b[0;36m1\u001b[0m\u001b[0;34m,\u001b[0m\u001b[0mwarm_start\u001b[0m\u001b[0;34m=\u001b[0m\u001b[0;32mTrue\u001b[0m\u001b[0;34m)\u001b[0m\u001b[0;34m\u001b[0m\u001b[0m\n\u001b[0;32m----> 5\u001b[0;31m     \u001b[0mrandom_forest\u001b[0m\u001b[0;34m.\u001b[0m\u001b[0mfit\u001b[0m\u001b[0;34m(\u001b[0m\u001b[0mX_train\u001b[0m\u001b[0;34m,\u001b[0m\u001b[0my_train\u001b[0m\u001b[0;34m)\u001b[0m\u001b[0;34m\u001b[0m\u001b[0m\n\u001b[0m\u001b[1;32m      6\u001b[0m     \u001b[0my_predicted\u001b[0m \u001b[0;34m=\u001b[0m \u001b[0mrandom_forest\u001b[0m\u001b[0;34m.\u001b[0m\u001b[0mpredict\u001b[0m\u001b[0;34m(\u001b[0m\u001b[0mX_test\u001b[0m\u001b[0;34m)\u001b[0m\u001b[0;34m\u001b[0m\u001b[0m\n\u001b[1;32m      7\u001b[0m     \u001b[0merror\u001b[0m \u001b[0;34m=\u001b[0m \u001b[0mmean_absolute_error\u001b[0m\u001b[0;34m(\u001b[0m\u001b[0my_test\u001b[0m\u001b[0;34m,\u001b[0m\u001b[0my_predicted\u001b[0m\u001b[0;34m,\u001b[0m \u001b[0msample_weight\u001b[0m\u001b[0;34m=\u001b[0m\u001b[0mtest_MAE_weight\u001b[0m\u001b[0;34m)\u001b[0m\u001b[0;34m\u001b[0m\u001b[0m\n",
      "\u001b[0;32m/usr/local/lib/python3.6/site-packages/sklearn/ensemble/forest.py\u001b[0m in \u001b[0;36mfit\u001b[0;34m(self, X, y, sample_weight)\u001b[0m\n\u001b[1;32m    326\u001b[0m                     \u001b[0mt\u001b[0m\u001b[0;34m,\u001b[0m \u001b[0mself\u001b[0m\u001b[0;34m,\u001b[0m \u001b[0mX\u001b[0m\u001b[0;34m,\u001b[0m \u001b[0my\u001b[0m\u001b[0;34m,\u001b[0m \u001b[0msample_weight\u001b[0m\u001b[0;34m,\u001b[0m \u001b[0mi\u001b[0m\u001b[0;34m,\u001b[0m \u001b[0mlen\u001b[0m\u001b[0;34m(\u001b[0m\u001b[0mtrees\u001b[0m\u001b[0;34m)\u001b[0m\u001b[0;34m,\u001b[0m\u001b[0;34m\u001b[0m\u001b[0m\n\u001b[1;32m    327\u001b[0m                     verbose=self.verbose, class_weight=self.class_weight)\n\u001b[0;32m--> 328\u001b[0;31m                 for i, t in enumerate(trees))\n\u001b[0m\u001b[1;32m    329\u001b[0m \u001b[0;34m\u001b[0m\u001b[0m\n\u001b[1;32m    330\u001b[0m             \u001b[0;31m# Collect newly grown trees\u001b[0m\u001b[0;34m\u001b[0m\u001b[0;34m\u001b[0m\u001b[0m\n",
      "\u001b[0;32m/usr/local/lib/python3.6/site-packages/sklearn/externals/joblib/parallel.py\u001b[0m in \u001b[0;36m__call__\u001b[0;34m(self, iterable)\u001b[0m\n\u001b[1;32m    787\u001b[0m                 \u001b[0;31m# consumption.\u001b[0m\u001b[0;34m\u001b[0m\u001b[0;34m\u001b[0m\u001b[0m\n\u001b[1;32m    788\u001b[0m                 \u001b[0mself\u001b[0m\u001b[0;34m.\u001b[0m\u001b[0m_iterating\u001b[0m \u001b[0;34m=\u001b[0m \u001b[0;32mFalse\u001b[0m\u001b[0;34m\u001b[0m\u001b[0m\n\u001b[0;32m--> 789\u001b[0;31m             \u001b[0mself\u001b[0m\u001b[0;34m.\u001b[0m\u001b[0mretrieve\u001b[0m\u001b[0;34m(\u001b[0m\u001b[0;34m)\u001b[0m\u001b[0;34m\u001b[0m\u001b[0m\n\u001b[0m\u001b[1;32m    790\u001b[0m             \u001b[0;31m# Make sure that we get a last message telling us we are done\u001b[0m\u001b[0;34m\u001b[0m\u001b[0;34m\u001b[0m\u001b[0m\n\u001b[1;32m    791\u001b[0m             \u001b[0melapsed_time\u001b[0m \u001b[0;34m=\u001b[0m \u001b[0mtime\u001b[0m\u001b[0;34m.\u001b[0m\u001b[0mtime\u001b[0m\u001b[0;34m(\u001b[0m\u001b[0;34m)\u001b[0m \u001b[0;34m-\u001b[0m \u001b[0mself\u001b[0m\u001b[0;34m.\u001b[0m\u001b[0m_start_time\u001b[0m\u001b[0;34m\u001b[0m\u001b[0m\n",
      "\u001b[0;32m/usr/local/lib/python3.6/site-packages/sklearn/externals/joblib/parallel.py\u001b[0m in \u001b[0;36mretrieve\u001b[0;34m(self)\u001b[0m\n\u001b[1;32m    697\u001b[0m             \u001b[0;32mtry\u001b[0m\u001b[0;34m:\u001b[0m\u001b[0;34m\u001b[0m\u001b[0m\n\u001b[1;32m    698\u001b[0m                 \u001b[0;32mif\u001b[0m \u001b[0mgetattr\u001b[0m\u001b[0;34m(\u001b[0m\u001b[0mself\u001b[0m\u001b[0;34m.\u001b[0m\u001b[0m_backend\u001b[0m\u001b[0;34m,\u001b[0m \u001b[0;34m'supports_timeout'\u001b[0m\u001b[0;34m,\u001b[0m \u001b[0;32mFalse\u001b[0m\u001b[0;34m)\u001b[0m\u001b[0;34m:\u001b[0m\u001b[0;34m\u001b[0m\u001b[0m\n\u001b[0;32m--> 699\u001b[0;31m                     \u001b[0mself\u001b[0m\u001b[0;34m.\u001b[0m\u001b[0m_output\u001b[0m\u001b[0;34m.\u001b[0m\u001b[0mextend\u001b[0m\u001b[0;34m(\u001b[0m\u001b[0mjob\u001b[0m\u001b[0;34m.\u001b[0m\u001b[0mget\u001b[0m\u001b[0;34m(\u001b[0m\u001b[0mtimeout\u001b[0m\u001b[0;34m=\u001b[0m\u001b[0mself\u001b[0m\u001b[0;34m.\u001b[0m\u001b[0mtimeout\u001b[0m\u001b[0;34m)\u001b[0m\u001b[0;34m)\u001b[0m\u001b[0;34m\u001b[0m\u001b[0m\n\u001b[0m\u001b[1;32m    700\u001b[0m                 \u001b[0;32melse\u001b[0m\u001b[0;34m:\u001b[0m\u001b[0;34m\u001b[0m\u001b[0m\n\u001b[1;32m    701\u001b[0m                     \u001b[0mself\u001b[0m\u001b[0;34m.\u001b[0m\u001b[0m_output\u001b[0m\u001b[0;34m.\u001b[0m\u001b[0mextend\u001b[0m\u001b[0;34m(\u001b[0m\u001b[0mjob\u001b[0m\u001b[0;34m.\u001b[0m\u001b[0mget\u001b[0m\u001b[0;34m(\u001b[0m\u001b[0;34m)\u001b[0m\u001b[0;34m)\u001b[0m\u001b[0;34m\u001b[0m\u001b[0m\n",
      "\u001b[0;32m/usr/local/Cellar/python/3.6.5/Frameworks/Python.framework/Versions/3.6/lib/python3.6/multiprocessing/pool.py\u001b[0m in \u001b[0;36mget\u001b[0;34m(self, timeout)\u001b[0m\n\u001b[1;32m    636\u001b[0m \u001b[0;34m\u001b[0m\u001b[0m\n\u001b[1;32m    637\u001b[0m     \u001b[0;32mdef\u001b[0m \u001b[0mget\u001b[0m\u001b[0;34m(\u001b[0m\u001b[0mself\u001b[0m\u001b[0;34m,\u001b[0m \u001b[0mtimeout\u001b[0m\u001b[0;34m=\u001b[0m\u001b[0;32mNone\u001b[0m\u001b[0;34m)\u001b[0m\u001b[0;34m:\u001b[0m\u001b[0;34m\u001b[0m\u001b[0m\n\u001b[0;32m--> 638\u001b[0;31m         \u001b[0mself\u001b[0m\u001b[0;34m.\u001b[0m\u001b[0mwait\u001b[0m\u001b[0;34m(\u001b[0m\u001b[0mtimeout\u001b[0m\u001b[0;34m)\u001b[0m\u001b[0;34m\u001b[0m\u001b[0m\n\u001b[0m\u001b[1;32m    639\u001b[0m         \u001b[0;32mif\u001b[0m \u001b[0;32mnot\u001b[0m \u001b[0mself\u001b[0m\u001b[0;34m.\u001b[0m\u001b[0mready\u001b[0m\u001b[0;34m(\u001b[0m\u001b[0;34m)\u001b[0m\u001b[0;34m:\u001b[0m\u001b[0;34m\u001b[0m\u001b[0m\n\u001b[1;32m    640\u001b[0m             \u001b[0;32mraise\u001b[0m \u001b[0mTimeoutError\u001b[0m\u001b[0;34m\u001b[0m\u001b[0m\n",
      "\u001b[0;32m/usr/local/Cellar/python/3.6.5/Frameworks/Python.framework/Versions/3.6/lib/python3.6/multiprocessing/pool.py\u001b[0m in \u001b[0;36mwait\u001b[0;34m(self, timeout)\u001b[0m\n\u001b[1;32m    633\u001b[0m \u001b[0;34m\u001b[0m\u001b[0m\n\u001b[1;32m    634\u001b[0m     \u001b[0;32mdef\u001b[0m \u001b[0mwait\u001b[0m\u001b[0;34m(\u001b[0m\u001b[0mself\u001b[0m\u001b[0;34m,\u001b[0m \u001b[0mtimeout\u001b[0m\u001b[0;34m=\u001b[0m\u001b[0;32mNone\u001b[0m\u001b[0;34m)\u001b[0m\u001b[0;34m:\u001b[0m\u001b[0;34m\u001b[0m\u001b[0m\n\u001b[0;32m--> 635\u001b[0;31m         \u001b[0mself\u001b[0m\u001b[0;34m.\u001b[0m\u001b[0m_event\u001b[0m\u001b[0;34m.\u001b[0m\u001b[0mwait\u001b[0m\u001b[0;34m(\u001b[0m\u001b[0mtimeout\u001b[0m\u001b[0;34m)\u001b[0m\u001b[0;34m\u001b[0m\u001b[0m\n\u001b[0m\u001b[1;32m    636\u001b[0m \u001b[0;34m\u001b[0m\u001b[0m\n\u001b[1;32m    637\u001b[0m     \u001b[0;32mdef\u001b[0m \u001b[0mget\u001b[0m\u001b[0;34m(\u001b[0m\u001b[0mself\u001b[0m\u001b[0;34m,\u001b[0m \u001b[0mtimeout\u001b[0m\u001b[0;34m=\u001b[0m\u001b[0;32mNone\u001b[0m\u001b[0;34m)\u001b[0m\u001b[0;34m:\u001b[0m\u001b[0;34m\u001b[0m\u001b[0m\n",
      "\u001b[0;32m/usr/local/Cellar/python/3.6.5/Frameworks/Python.framework/Versions/3.6/lib/python3.6/threading.py\u001b[0m in \u001b[0;36mwait\u001b[0;34m(self, timeout)\u001b[0m\n\u001b[1;32m    549\u001b[0m             \u001b[0msignaled\u001b[0m \u001b[0;34m=\u001b[0m \u001b[0mself\u001b[0m\u001b[0;34m.\u001b[0m\u001b[0m_flag\u001b[0m\u001b[0;34m\u001b[0m\u001b[0m\n\u001b[1;32m    550\u001b[0m             \u001b[0;32mif\u001b[0m \u001b[0;32mnot\u001b[0m \u001b[0msignaled\u001b[0m\u001b[0;34m:\u001b[0m\u001b[0;34m\u001b[0m\u001b[0m\n\u001b[0;32m--> 551\u001b[0;31m                 \u001b[0msignaled\u001b[0m \u001b[0;34m=\u001b[0m \u001b[0mself\u001b[0m\u001b[0;34m.\u001b[0m\u001b[0m_cond\u001b[0m\u001b[0;34m.\u001b[0m\u001b[0mwait\u001b[0m\u001b[0;34m(\u001b[0m\u001b[0mtimeout\u001b[0m\u001b[0;34m)\u001b[0m\u001b[0;34m\u001b[0m\u001b[0m\n\u001b[0m\u001b[1;32m    552\u001b[0m             \u001b[0;32mreturn\u001b[0m \u001b[0msignaled\u001b[0m\u001b[0;34m\u001b[0m\u001b[0m\n\u001b[1;32m    553\u001b[0m \u001b[0;34m\u001b[0m\u001b[0m\n",
      "\u001b[0;32m/usr/local/Cellar/python/3.6.5/Frameworks/Python.framework/Versions/3.6/lib/python3.6/threading.py\u001b[0m in \u001b[0;36mwait\u001b[0;34m(self, timeout)\u001b[0m\n\u001b[1;32m    293\u001b[0m         \u001b[0;32mtry\u001b[0m\u001b[0;34m:\u001b[0m    \u001b[0;31m# restore state no matter what (e.g., KeyboardInterrupt)\u001b[0m\u001b[0;34m\u001b[0m\u001b[0m\n\u001b[1;32m    294\u001b[0m             \u001b[0;32mif\u001b[0m \u001b[0mtimeout\u001b[0m \u001b[0;32mis\u001b[0m \u001b[0;32mNone\u001b[0m\u001b[0;34m:\u001b[0m\u001b[0;34m\u001b[0m\u001b[0m\n\u001b[0;32m--> 295\u001b[0;31m                 \u001b[0mwaiter\u001b[0m\u001b[0;34m.\u001b[0m\u001b[0macquire\u001b[0m\u001b[0;34m(\u001b[0m\u001b[0;34m)\u001b[0m\u001b[0;34m\u001b[0m\u001b[0m\n\u001b[0m\u001b[1;32m    296\u001b[0m                 \u001b[0mgotit\u001b[0m \u001b[0;34m=\u001b[0m \u001b[0;32mTrue\u001b[0m\u001b[0;34m\u001b[0m\u001b[0m\n\u001b[1;32m    297\u001b[0m             \u001b[0;32melse\u001b[0m\u001b[0;34m:\u001b[0m\u001b[0;34m\u001b[0m\u001b[0m\n",
      "\u001b[0;31mKeyboardInterrupt\u001b[0m: "
     ]
    }
   ],
   "source": [
    "max_leaf = [i for i in range(5000,255000,5000)]\n",
    "leaf_error = []\n",
    "for i in max_leaf:\n",
    "    random_forest = RandomForestRegressor(random_state=42,max_leaf_nodes=i,n_jobs=-1)\n",
    "    random_forest.fit(X_train,y_train)\n",
    "    y_predicted = random_forest.predict(X_test)\n",
    "    error = mean_absolute_error(y_test,y_predicted, sample_weight=test_MAE_weight)\n",
    "    leaf_error.append(error)\n",
    "    print(i, error)"
   ]
  },
  {
   "cell_type": "code",
   "execution_count": 23,
   "metadata": {},
   "outputs": [],
   "source": [
    "plt.plot(max_leaf,leaf_error)\n",
    "plt.ylabel('mean absolute error')\n",
    "plt.xlabel('max leaf')\n",
    "plt.show()"
   ]
  },
  {
   "cell_type": "code",
   "execution_count": 24,
   "metadata": {},
   "outputs": [],
   "source": [
    "# max_features = [i for i in range(2,11)]\n",
    "# leaf_error = []\n",
    "# for i in max_features:\n",
    "#     random_forest = RandomForestRegressor(random_state=42,max_features=i)\n",
    "#     random_forest.fit(X_train,y_train)\n",
    "#     y_predicted = random_forest.predict(X_test)\n",
    "#     error = mean_absolute_error(y_test,y_predicted, sample_weight=test_MAE_weight)\n",
    "#     leaf_error.append(error)\n",
    "#     print(i, error)"
   ]
  },
  {
   "cell_type": "code",
   "execution_count": 25,
   "metadata": {},
   "outputs": [],
   "source": [
    "# plt.plot(max_features,leaf_error)\n",
    "# plt.ylabel('mean absolute error')\n",
    "# plt.xlabel('max_features')\n",
    "plt.show()"
   ]
  },
  {
   "cell_type": "markdown",
   "metadata": {},
   "source": [
    "# Submission"
   ]
  },
  {
   "cell_type": "code",
   "execution_count": 26,
   "metadata": {},
   "outputs": [],
   "source": [
    "# random_forest = RandomForestRegressor(random_state=42)\n",
    "# random_forest.fit(X_train,y_train)\n",
    "y = random_forest.predict(x_submission)\n",
    "sample_sub['Weekly_Sales'] = y\n",
    "sample_sub.to_csv('forest_submission.csv',columns=['Id','Weekly_Sales'],index=False)"
   ]
  },
  {
   "cell_type": "markdown",
   "metadata": {},
   "source": [
    "__Raw Data__: 6029.02252 __/__ 5664.89475 <br/>\n",
    "__Use days of the year__: 3476.88503 __/__ 3369.14829<br/>\n",
    "__Max Leaf Node = 30k:__ 3512.95249 __/__ 3417.74279<br/>\n",
    "__Add date value:__ 3432.52948 __/__ 3366.84838<br/>\n",
    "__Add Before X-Mas Parameter:__ 3401.96887 __/__ 3320.45137<br/>\n",
    "__Add ThankGiving Parameter:__ 3362.35855 __/__ 3294.05245<br/>\n",
    "__Store-Dept to Ordinal Parameter:__ 3388.84645 __/__ 3229.33395\n"
   ]
  },
  {
   "cell_type": "code",
   "execution_count": null,
   "metadata": {},
   "outputs": [],
   "source": []
  }
 ],
 "metadata": {
  "kernelspec": {
   "display_name": "Python 3",
   "language": "python",
   "name": "python3"
  },
  "language_info": {
   "codemirror_mode": {
    "name": "ipython",
    "version": 3
   },
   "file_extension": ".py",
   "mimetype": "text/x-python",
   "name": "python",
   "nbconvert_exporter": "python",
   "pygments_lexer": "ipython3",
   "version": "3.6.5"
  }
 },
 "nbformat": 4,
 "nbformat_minor": 2
}
